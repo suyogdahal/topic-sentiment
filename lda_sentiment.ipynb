{
 "cells": [
  {
   "cell_type": "markdown",
   "metadata": {},
   "source": [
    "## Imports and Data Loading\n",
    "\n",
    "> P.S. We used kaggle to run the code, so there are few kaggle specific imports too\n"
   ]
  },
  {
   "cell_type": "code",
   "execution_count": null,
   "metadata": {
    "_cell_guid": "b1076dfc-b9ad-4769-8c92-a6c4dae69d19",
    "_uuid": "8f2839f25d086af736a60e9eeb907d3b93b6e0e5",
    "execution": {
     "iopub.execute_input": "2024-10-31T04:51:18.245922Z",
     "iopub.status.busy": "2024-10-31T04:51:18.245542Z",
     "iopub.status.idle": "2024-10-31T04:51:19.571710Z",
     "shell.execute_reply": "2024-10-31T04:51:19.570389Z",
     "shell.execute_reply.started": "2024-10-31T04:51:18.245874Z"
    },
    "trusted": true
   },
   "outputs": [
    {
     "name": "stdout",
     "output_type": "stream",
     "text": [
      "/kaggle/input/democratvsrepublicantweets/ExtractedTweets.csv\n",
      "/kaggle/input/democratvsrepublicantweets/TwitterHandles.csv\n"
     ]
    }
   ],
   "source": [
    "# This Python 3 environment comes with many helpful analytics libraries installed\n",
    "# It is defined by the kaggle/python Docker image: https://github.com/kaggle/docker-python\n",
    "# For example, here's several helpful packages to load\n",
    "\n",
    "import numpy as np  # linear algebra\n",
    "import pandas as pd  # data processing, CSV file I/O (e.g. pd.read_csv)\n",
    "\n",
    "# Input data files are available in the read-only \"../input/\" directory\n",
    "# For example, running this (by clicking run or pressing Shift+Enter) will list all files under the input directory\n",
    "\n",
    "import os\n",
    "\n",
    "for dirname, _, filenames in os.walk(\"/kaggle/input\"):\n",
    "    for filename in filenames:\n",
    "        print(os.path.join(dirname, filename))\n",
    "\n",
    "# You can write up to 20GB to the current directory (/kaggle/working/) that gets preserved as output when you create a version using \"Save & Run All\"\n",
    "# You can also write temporary files to /kaggle/temp/, but they won't be saved outside of the current session"
   ]
  },
  {
   "cell_type": "code",
   "execution_count": null,
   "metadata": {},
   "outputs": [],
   "source": [
    "import re\n",
    "import nltk\n",
    "import gensim\n",
    "import pyLDAvis.gensim\n",
    "from nltk.corpus import stopwords\n",
    "from gensim import corpora\n",
    "from gensim.models import LdaModel\n",
    "import string\n",
    "import random\n",
    "\n",
    "from datetime import datetime, timedelta"
   ]
  },
  {
   "cell_type": "code",
   "execution_count": 2,
   "metadata": {
    "execution": {
     "iopub.execute_input": "2024-10-31T04:51:19.575943Z",
     "iopub.status.busy": "2024-10-31T04:51:19.574478Z",
     "iopub.status.idle": "2024-10-31T04:51:20.167654Z",
     "shell.execute_reply": "2024-10-31T04:51:20.166692Z",
     "shell.execute_reply.started": "2024-10-31T04:51:19.575871Z"
    },
    "trusted": true
   },
   "outputs": [],
   "source": [
    "df = pd.read_csv(\"/kaggle/input/democratvsrepublicantweets/ExtractedTweets.csv\")"
   ]
  },
  {
   "cell_type": "code",
   "execution_count": 3,
   "metadata": {
    "execution": {
     "iopub.execute_input": "2024-10-31T04:51:21.057943Z",
     "iopub.status.busy": "2024-10-31T04:51:21.056963Z",
     "iopub.status.idle": "2024-10-31T04:51:21.090530Z",
     "shell.execute_reply": "2024-10-31T04:51:21.089368Z",
     "shell.execute_reply.started": "2024-10-31T04:51:21.057897Z"
    },
    "trusted": true
   },
   "outputs": [
    {
     "data": {
      "text/plain": [
       "Party\n",
       "Republican    44392\n",
       "Democrat      42068\n",
       "Name: count, dtype: int64"
      ]
     },
     "execution_count": 3,
     "metadata": {},
     "output_type": "execute_result"
    }
   ],
   "source": [
    "df.Party.value_counts()"
   ]
  },
  {
   "cell_type": "markdown",
   "metadata": {},
   "source": [
    "## Preprocessing\n",
    "\n",
    "- Sampling data from 80k rows to 20k rows [we have less time and compute :(, but yeah its a stratified sampling, so we should have a fairly good representation of the data]\n",
    "- Preprocess the twitter text data to remove special characters, numbers, extra spaces, urls, emojis, etc.\n",
    "- Generate random timestamps for the data as there was no original timestamp provided (This is done to simulate the real-world scenario)\n"
   ]
  },
  {
   "cell_type": "code",
   "execution_count": null,
   "metadata": {
    "execution": {
     "iopub.execute_input": "2024-10-31T04:51:21.723620Z",
     "iopub.status.busy": "2024-10-31T04:51:21.722650Z",
     "iopub.status.idle": "2024-10-31T04:51:23.138566Z",
     "shell.execute_reply": "2024-10-31T04:51:23.137213Z",
     "shell.execute_reply.started": "2024-10-31T04:51:21.723571Z"
    },
    "trusted": true
   },
   "outputs": [
    {
     "name": "stdout",
     "output_type": "stream",
     "text": [
      "Party\n",
      "Republican    10269\n",
      "Democrat       9731\n",
      "Name: count, dtype: int64\n"
     ]
    }
   ],
   "source": [
    "## this is too much, lets sample\n",
    "\n",
    "from sklearn.model_selection import train_test_split\n",
    "\n",
    "# Desired sample size\n",
    "sample_size = 20_000\n",
    "\n",
    "df_sampled, _ = train_test_split(\n",
    "    df, train_size=sample_size, stratify=df[\"Party\"], random_state=42\n",
    ")\n",
    "\n",
    "# Display the value counts to verify stratification\n",
    "print(df_sampled[\"Party\"].value_counts())"
   ]
  },
  {
   "cell_type": "code",
   "execution_count": null,
   "metadata": {
    "execution": {
     "iopub.execute_input": "2024-10-31T04:51:23.141468Z",
     "iopub.status.busy": "2024-10-31T04:51:23.140846Z",
     "iopub.status.idle": "2024-10-31T04:51:34.310888Z",
     "shell.execute_reply": "2024-10-31T04:51:34.309752Z",
     "shell.execute_reply.started": "2024-10-31T04:51:23.141411Z"
    },
    "trusted": true
   },
   "outputs": [
    {
     "name": "stdout",
     "output_type": "stream",
     "text": [
      "[nltk_data] Downloading package stopwords to /usr/share/nltk_data...\n",
      "[nltk_data]   Package stopwords is already up-to-date!\n"
     ]
    }
   ],
   "source": [
    "# Download stopwords if not already downloaded\n",
    "nltk.download(\"stopwords\")\n",
    "stop_words = set(stopwords.words(\"english\"))\n",
    "\n",
    "\n",
    "def preprocess_tweet(tweet):\n",
    "    # Convert to lowercase\n",
    "    tweet = tweet.lower()\n",
    "\n",
    "    # Remove URLs\n",
    "    tweet = re.sub(r\"http\\S+|www\\S+|https\\S+\", \"\", tweet)\n",
    "\n",
    "    # Remove mentions and hashtags\n",
    "    tweet = re.sub(r\"@\\w+|#\\w+\", \"\", tweet)\n",
    "\n",
    "    tweet = re.sub(\"rt \", \"\", tweet)\n",
    "\n",
    "    # Remove punctuations\n",
    "    tweet = tweet.translate(str.maketrans(\"\", \"\", string.punctuation))\n",
    "\n",
    "    # Remove numbers\n",
    "    tweet = re.sub(r\"\\d+\", \"\", tweet)\n",
    "\n",
    "    # Remove stopwords\n",
    "    tweet = \" \".join([word for word in tweet.split() if word not in stop_words])\n",
    "\n",
    "    # Remove extra whitespaces\n",
    "    tweet = re.sub(r\"\\s+\", \" \", tweet).strip()\n",
    "\n",
    "    return tweet\n",
    "\n",
    "\n",
    "# Generate random timestamps within the range for each row\n",
    "def random_date(start, end):\n",
    "    delta = end - start\n",
    "    random_days = random.randint(0, delta.days)\n",
    "    random_seconds = random.randint(0, 24 * 60 * 60 - 1)\n",
    "    return start + timedelta(days=random_days, seconds=random_seconds)\n"
   ]
  },
  {
   "cell_type": "code",
   "execution_count": 6,
   "metadata": {
    "execution": {
     "iopub.execute_input": "2024-10-31T04:51:34.312824Z",
     "iopub.status.busy": "2024-10-31T04:51:34.312353Z",
     "iopub.status.idle": "2024-10-31T04:51:35.072955Z",
     "shell.execute_reply": "2024-10-31T04:51:35.072193Z",
     "shell.execute_reply.started": "2024-10-31T04:51:34.312790Z"
    },
    "trusted": true
   },
   "outputs": [],
   "source": [
    "df_sampled[\"Processed Tweet\"] = df_sampled[\"Tweet\"].apply(preprocess_tweet)"
   ]
  },
  {
   "cell_type": "code",
   "execution_count": null,
   "metadata": {
    "execution": {
     "iopub.execute_input": "2024-10-31T04:51:35.076256Z",
     "iopub.status.busy": "2024-10-31T04:51:35.075518Z",
     "iopub.status.idle": "2024-10-31T04:51:35.261633Z",
     "shell.execute_reply": "2024-10-31T04:51:35.260686Z",
     "shell.execute_reply.started": "2024-10-31T04:51:35.076209Z"
    },
    "trusted": true
   },
   "outputs": [],
   "source": [
    "start_date = datetime(2015, 1, 1)\n",
    "end_date = datetime(2018, 12, 31)\n",
    "\n",
    "df_sampled[\"timestamp\"] = [\n",
    "    random_date(start_date, end_date) for _ in range(len(df_sampled))\n",
    "]\n",
    "\n",
    "df_sampled = df_sampled.sort_values(by=\"timestamp\").reset_index(drop=True)"
   ]
  },
  {
   "cell_type": "code",
   "execution_count": 8,
   "metadata": {
    "execution": {
     "iopub.execute_input": "2024-10-31T04:51:35.263205Z",
     "iopub.status.busy": "2024-10-31T04:51:35.262888Z",
     "iopub.status.idle": "2024-10-31T04:51:35.278651Z",
     "shell.execute_reply": "2024-10-31T04:51:35.277824Z",
     "shell.execute_reply.started": "2024-10-31T04:51:35.263166Z"
    },
    "trusted": true
   },
   "outputs": [
    {
     "data": {
      "text/html": [
       "<div>\n",
       "<style scoped>\n",
       "    .dataframe tbody tr th:only-of-type {\n",
       "        vertical-align: middle;\n",
       "    }\n",
       "\n",
       "    .dataframe tbody tr th {\n",
       "        vertical-align: top;\n",
       "    }\n",
       "\n",
       "    .dataframe thead th {\n",
       "        text-align: right;\n",
       "    }\n",
       "</style>\n",
       "<table border=\"1\" class=\"dataframe\">\n",
       "  <thead>\n",
       "    <tr style=\"text-align: right;\">\n",
       "      <th></th>\n",
       "      <th>Party</th>\n",
       "      <th>Handle</th>\n",
       "      <th>Tweet</th>\n",
       "      <th>Processed Tweet</th>\n",
       "      <th>timestamp</th>\n",
       "    </tr>\n",
       "  </thead>\n",
       "  <tbody>\n",
       "    <tr>\n",
       "      <th>0</th>\n",
       "      <td>Democrat</td>\n",
       "      <td>repsandylevin</td>\n",
       "      <td>The notion that this bill for the middle class...</td>\n",
       "      <td>notion bill middle class untrue fib</td>\n",
       "      <td>2015-01-01 00:10:09</td>\n",
       "    </tr>\n",
       "    <tr>\n",
       "      <th>1</th>\n",
       "      <td>Republican</td>\n",
       "      <td>RepJoeWilson</td>\n",
       "      <td>At the @HASCRepublicans hearing today, I quest...</td>\n",
       "      <td>hearing today questioned expewitnesses army se...</td>\n",
       "      <td>2015-01-01 01:05:22</td>\n",
       "    </tr>\n",
       "    <tr>\n",
       "      <th>2</th>\n",
       "      <td>Democrat</td>\n",
       "      <td>LloydDoggettTX</td>\n",
       "      <td>RT @texasdemocrats: Two years ago, marriage eq...</td>\n",
       "      <td>two years ago marriage equality became law lan...</td>\n",
       "      <td>2015-01-01 01:59:39</td>\n",
       "    </tr>\n",
       "    <tr>\n",
       "      <th>3</th>\n",
       "      <td>Democrat</td>\n",
       "      <td>NancyPelosi</td>\n",
       "      <td>With at least seven independent federal invest...</td>\n",
       "      <td>least seven independent federal investigations...</td>\n",
       "      <td>2015-01-01 03:07:45</td>\n",
       "    </tr>\n",
       "    <tr>\n",
       "      <th>4</th>\n",
       "      <td>Democrat</td>\n",
       "      <td>jahimes</td>\n",
       "      <td>RT @FairfieldCares: National Prescription Drug...</td>\n",
       "      <td>national prescription drug takeback day saturd...</td>\n",
       "      <td>2015-01-01 06:42:27</td>\n",
       "    </tr>\n",
       "  </tbody>\n",
       "</table>\n",
       "</div>"
      ],
      "text/plain": [
       "        Party          Handle  \\\n",
       "0    Democrat   repsandylevin   \n",
       "1  Republican    RepJoeWilson   \n",
       "2    Democrat  LloydDoggettTX   \n",
       "3    Democrat     NancyPelosi   \n",
       "4    Democrat         jahimes   \n",
       "\n",
       "                                               Tweet  \\\n",
       "0  The notion that this bill for the middle class...   \n",
       "1  At the @HASCRepublicans hearing today, I quest...   \n",
       "2  RT @texasdemocrats: Two years ago, marriage eq...   \n",
       "3  With at least seven independent federal invest...   \n",
       "4  RT @FairfieldCares: National Prescription Drug...   \n",
       "\n",
       "                                     Processed Tweet           timestamp  \n",
       "0                notion bill middle class untrue fib 2015-01-01 00:10:09  \n",
       "1  hearing today questioned expewitnesses army se... 2015-01-01 01:05:22  \n",
       "2  two years ago marriage equality became law lan... 2015-01-01 01:59:39  \n",
       "3  least seven independent federal investigations... 2015-01-01 03:07:45  \n",
       "4  national prescription drug takeback day saturd... 2015-01-01 06:42:27  "
      ]
     },
     "execution_count": 8,
     "metadata": {},
     "output_type": "execute_result"
    }
   ],
   "source": [
    "df_sampled.head()"
   ]
  },
  {
   "cell_type": "markdown",
   "metadata": {},
   "source": [
    "## LDAModel\n"
   ]
  },
  {
   "cell_type": "markdown",
   "metadata": {},
   "source": [
    "### Find out the topics\n"
   ]
  },
  {
   "cell_type": "code",
   "execution_count": null,
   "metadata": {
    "execution": {
     "iopub.execute_input": "2024-10-31T04:51:35.280393Z",
     "iopub.status.busy": "2024-10-31T04:51:35.279797Z",
     "iopub.status.idle": "2024-10-31T04:52:40.727647Z",
     "shell.execute_reply": "2024-10-31T04:52:40.726568Z",
     "shell.execute_reply.started": "2024-10-31T04:51:35.280349Z"
    },
    "trusted": true
   },
   "outputs": [
    {
     "name": "stdout",
     "output_type": "stream",
     "text": [
      "Topic 1: 0.014*\"great\" + 0.013*\"amp\" + 0.009*\"thanks\" + 0.007*\"today\" + 0.006*\"time\" + 0.006*\"us\" + 0.006*\"small\" + 0.006*\"forward\" + 0.005*\"students\" + 0.005*\"thank\"\n",
      "Topic 2: 0.016*\"amp\" + 0.010*\"women\" + 0.008*\"americans\" + 0.008*\"families\" + 0.008*\"country\" + 0.008*\"people\" + 0.008*\"every\" + 0.007*\"american\" + 0.007*\"must\" + 0.007*\"day\"\n",
      "Topic 3: 0.016*\"today\" + 0.011*\"thank\" + 0.008*\"honor\" + 0.008*\"great\" + 0.008*\"us\" + 0.007*\"hearing\" + 0.007*\"th\" + 0.007*\"day\" + 0.006*\"live\" + 0.006*\"join\"\n",
      "Topic 4: 0.019*\"tax\" + 0.006*\"cuts\" + 0.006*\"jobs\" + 0.006*\"amp\" + 0.006*\"trump\" + 0.006*\"new\" + 0.005*\"pay\" + 0.005*\"happy\" + 0.005*\"states\" + 0.004*\"president\"\n",
      "Topic 5: 0.016*\"house\" + 0.012*\"bill\" + 0.010*\"act\" + 0.009*\"amp\" + 0.009*\"today\" + 0.008*\"congress\" + 0.006*\"proud\" + 0.006*\"vote\" + 0.006*\"legislation\" + 0.006*\"health\"\n"
     ]
    }
   ],
   "source": [
    "tokenized_tweets = [tweet.split() for tweet in df_sampled[\"Processed Tweet\"]]\n",
    "\n",
    "dictionary = corpora.Dictionary(tokenized_tweets)\n",
    "corpus = [dictionary.doc2bow(tweet) for tweet in tokenized_tweets]\n",
    "\n",
    "num_topics = 5\n",
    "lda_model = LdaModel(\n",
    "    corpus=corpus, id2word=dictionary, num_topics=num_topics, random_state=42, passes=10\n",
    ")\n",
    "\n",
    "# Display topics\n",
    "for idx, topic in lda_model.print_topics(-1):\n",
    "    print(f\"Topic {idx + 1}: {topic}\")\n",
    "\n",
    "# Optional: Visualize topics with pyLDAvis (in Jupyter Notebook or HTML output)\n",
    "pyLDAvis.enable_notebook()  # Uncomment for Jupyter Notebook\n",
    "vis = pyLDAvis.gensim.prepare(lda_model, corpus, dictionary)\n",
    "pyLDAvis.save_html(vis, \"lda_visualization.html\")"
   ]
  },
  {
   "cell_type": "code",
   "execution_count": null,
   "metadata": {
    "execution": {
     "iopub.execute_input": "2024-10-31T04:52:40.729886Z",
     "iopub.status.busy": "2024-10-31T04:52:40.729205Z",
     "iopub.status.idle": "2024-10-31T04:52:45.061194Z",
     "shell.execute_reply": "2024-10-31T04:52:45.060306Z",
     "shell.execute_reply.started": "2024-10-31T04:52:40.729836Z"
    },
    "trusted": true
   },
   "outputs": [
    {
     "data": {
      "text/html": [
       "\n",
       "<link rel=\"stylesheet\" type=\"text/css\" href=\"https://cdn.jsdelivr.net/gh/bmabey/pyLDAvis@3.4.0/pyLDAvis/js/ldavis.v1.0.0.css\">\n",
       "\n",
       "\n",
       "<div id=\"ldavis_el301364342950212808340122268\" style=\"background-color:white;\"></div>\n",
       "<script type=\"text/javascript\">\n",
       "\n",
       "var ldavis_el301364342950212808340122268_data = {\"mdsDat\": {\"x\": [0.010708785018179472, -0.21285126131605234, -0.09643189419566084, 0.16674766443332262, 0.13182670606021105], \"y\": [0.2143016306877854, -0.057102753137698616, -0.05495176764140054, -0.1795342039211671, 0.07728709401248096], \"topics\": [1, 2, 3, 4, 5], \"cluster\": [1, 1, 1, 1, 1], \"Freq\": [24.286555523228657, 22.12466670801487, 19.175984539222746, 17.691627754841566, 16.72116547469216]}, \"tinfo\": {\"Term\": [\"tax\", \"house\", \"great\", \"bill\", \"women\", \"act\", \"honor\", \"thank\", \"thanks\", \"country\", \"every\", \"hearing\", \"families\", \"th\", \"vote\", \"legislation\", \"bipartisan\", \"congratulations\", \"cuts\", \"day\", \"live\", \"americans\", \"small\", \"forward\", \"committee\", \"pm\", \"passed\", \"discuss\", \"tune\", \"must\", \"legislation\", \"bipartisan\", \"vote\", \"committee\", \"funding\", \"colleagues\", \"senate\", \"hr\", \"floor\", \"letter\", \"voted\", \"de\", \"introduced\", \"safety\", \"address\", \"va\", \"la\", \"conference\", \"services\", \"republican\", \"rural\", \"improve\", \"deadline\", \"calling\", \"el\", \"sent\", \"korea\", \"insurance\", \"online\", \"en\", \"resolution\", \"house\", \"passed\", \"programs\", \"bill\", \"act\", \"health\", \"democrats\", \"icymi\", \"care\", \"congress\", \"proud\", \"statement\", \"federal\", \"president\", \"congressional\", \"chairman\", \"help\", \"today\", \"amp\", \"need\", \"read\", \"w\", \"\\u2026\", \"trump\", \"honor\", \"congratulations\", \"honored\", \"hall\", \"town\", \"tune\", \"congressman\", \"joining\", \"issues\", \"subcommittee\", \"celebrating\", \"wishing\", \"annual\", \"dr\", \"award\", \"center\", \"anniversary\", \"pm\", \"ceremony\", \"mark\", \"king\", \"facebook\", \"opening\", \"loved\", \"ones\", \"council\", \"i\\u2019ll\", \"israel\", \"number\", \"et\", \"event\", \"th\", \"hearing\", \"wonderful\", \"live\", \"service\", \"thank\", \"join\", \"national\", \"today\", \"discuss\", \"us\", \"day\", \"great\", \"watch\", \"meeting\", \"\\u2026\", \"happy\", \"veterans\", \"district\", \"week\", \"amp\", \"last\", \"work\", \"small\", \"forward\", \"businesses\", \"business\", \"looking\", \"enjoyed\", \"pleasure\", \"bush\", \"visiting\", \"season\", \"praying\", \"barbara\", \"video\", \"huge\", \"hurricane\", \"positive\", \"ive\", \"seeing\", \"set\", \"productive\", \"powerful\", \"oil\", \"east\", \"stories\", \"loss\", \"election\", \"accountable\", \"owners\", \"ca\", \"wealthy\", \"thankful\", \"discussion\", \"thanks\", \"dc\", \"great\", \"reform\", \"look\", \"news\", \"high\", \"four\", \"w\", \"students\", \"time\", \"school\", \"in\\u2026\", \"amp\", \"meeting\", \"office\", \"meet\", \"us\", \"visit\", \"good\", \"local\", \"thank\", \"today\", \"week\", \"discuss\", \"work\", \"morning\", \"last\", \"see\", \"tax\", \"every\", \"country\", \"women\", \"men\", \"lives\", \"helping\", \"food\", \"fighting\", \"attack\", \"hardworking\", \"brave\", \"paid\", \"believe\", \"growth\", \"stopping\", \"enough\", \"committed\", \"funds\", \"worked\", \"coast\", \"reckless\", \"god\", \"york\", \"killed\", \"participate\", \"mothers\", \"five\", \"result\", \"officer\", \"tell\", \"millions\", \"families\", \"across\", \"love\", \"never\", \"americans\", \"children\", \"story\", \"american\", \"million\", \"people\", \"stand\", \"must\", \"make\", \"enforcement\", \"nation\", \"amp\", \"know\", \"made\", \"gun\", \"day\", \"many\", \"communities\", \"law\", \"one\", \"years\", \"us\", \"need\", \"working\", \"cuts\", \"pay\", \"states\", \"spending\", \"birthday\", \"code\", \"united\", \"defense\", \"tour\", \"major\", \"role\", \"order\", \"thing\", \"honoring\", \"stay\", \"raise\", \"investigation\", \"counsel\", \"message\", \"rules\", \"industry\", \"moms\", \"largest\", \"far\", \"sessions\", \"executive\", \"you\\u2019re\", \"mueller\", \"play\", \"favorite\", \"catch\", \"tax\", \"chair\", \"dollars\", \"irs\", \"middle\", \"taxpayers\", \"jobs\", \"release\", \"taxes\", \"gop\", \"trump\", \"special\", \"happy\", \"like\", \"class\", \"new\", \"going\", \"safe\", \"plan\", \"president\", \"would\", \"administration\", \"money\", \"amp\", \"economy\", \"act\", \"work\", \"see\", \"it\\u2019s\", \"good\", \"time\", \"\\u2026\", \"american\", \"day\", \"get\", \"today\", \"one\", \"great\", \"bill\"], \"Freq\": [737.0, 779.0, 961.0, 636.0, 359.0, 609.0, 359.0, 758.0, 454.0, 274.0, 266.0, 349.0, 342.0, 322.0, 281.0, 277.0, 273.0, 256.0, 198.0, 629.0, 342.0, 394.0, 209.0, 209.0, 242.0, 229.0, 277.0, 358.0, 214.0, 419.0, 277.0691299643839, 272.99636609629385, 280.5050584695199, 241.7069889907362, 201.73056435231754, 185.71460629542668, 170.34500417706107, 148.3690120777612, 136.511546993326, 136.62102812186777, 133.42222454047607, 131.35499682006457, 127.74396439559784, 111.38564995510147, 109.7927050253467, 87.57015527517937, 84.29235946729166, 84.37699595658312, 79.47390502789912, 77.7777052283672, 76.32293492654033, 73.88722689024641, 73.20011476229455, 69.21428791473262, 63.65409059367755, 62.60897956781651, 62.34891521804171, 61.4888953819636, 57.83497095267399, 55.760429848951674, 64.4385991980187, 739.099829326413, 263.9945795357233, 75.32113867615902, 545.7848827641986, 492.7967193375666, 274.8297192855436, 129.06601765433987, 141.5080921992873, 190.3071035450495, 356.3991557057515, 289.6206087704809, 156.61633420326746, 170.57173004075236, 266.78357010636483, 220.7021834481556, 152.22483420307577, 209.71148605872418, 410.7014221065655, 441.7182933258751, 177.45154831664053, 148.5832744428672, 152.68718058583633, 167.25396867947168, 151.58010346084177, 358.3196753879039, 255.32150089474916, 202.3844607995768, 170.54382477669796, 163.50743523509954, 213.54586153419567, 143.97393857668237, 129.5525151488226, 122.56592336768938, 117.1511721864701, 98.24260841154425, 100.63113028237348, 97.44005217835031, 95.29310646611358, 84.93013049119087, 106.20947981125194, 79.36032400920618, 226.83266029602873, 70.06659938479388, 69.09733369435766, 68.29985427181782, 67.41935023839395, 67.2491395324247, 64.33004343129575, 57.180018361371886, 55.07434736984214, 54.603719519531865, 54.85316848597613, 53.849900668617224, 52.72314881044231, 87.98363953094784, 303.092158389825, 321.9366593166153, 70.03194202418086, 274.7568925638369, 185.00516244004507, 482.4182553804686, 264.291340004782, 244.92819410228316, 691.3268030079149, 226.24655125913552, 351.249753887069, 287.65893410128035, 352.1103008027492, 170.8965305698842, 188.54952654418634, 250.52635069538843, 195.6267306423733, 138.6174581778475, 130.57040818229243, 178.37393740113055, 240.43355107937356, 149.397012726304, 145.21638169636387, 209.13493647538215, 208.6668944778082, 187.38647747596426, 164.83708765575625, 121.04028012685325, 128.11796089154515, 89.36865796090937, 74.74205508051703, 86.61994516255281, 60.67404283616451, 56.909613355343545, 54.4510836475691, 53.75271854887711, 52.26686164788709, 51.20435550523397, 47.319022544824065, 46.4395384933641, 44.07915697225441, 44.03890060911974, 43.01257577238111, 43.952544077389966, 42.45171784386667, 42.35035296309832, 41.52340246844062, 37.57983520628745, 37.12488974899239, 36.88730090755412, 35.787041960856385, 35.26835870698718, 34.93379867679402, 39.97310330619744, 102.46786003250213, 333.4880820562206, 140.137116733769, 511.5819897946455, 148.83581190897598, 112.35393150798997, 159.0843727297006, 151.88478706178373, 55.705754749157244, 169.22439830301624, 203.35135515846727, 231.29032895474032, 168.34102994169535, 78.18843501563745, 480.2219100883516, 161.5176674288807, 145.53690569355354, 106.85579494384692, 229.1606867108052, 107.50105857882616, 135.31418246967175, 106.3391643916732, 202.84544113974917, 278.25258891027215, 149.41287469269153, 132.18322930406228, 140.05408961049145, 120.16998662997497, 128.45293059504397, 122.58304476840637, 117.23792226771383, 266.0536446388747, 273.3432418704098, 357.60670214109314, 144.17997999619544, 150.30135962142236, 96.30297611895773, 89.58270518871792, 80.15596454722277, 72.27269148210972, 66.6790423737271, 72.16565432985207, 54.39600320546492, 53.62892494545666, 53.58690120437711, 54.07509972761425, 52.21328841396307, 51.582584333034426, 48.72986144389233, 46.57067226817328, 46.0863573513498, 43.33840384429383, 41.85985768841265, 40.83600945090688, 40.02659548143568, 41.41760650861531, 38.882131467805785, 38.840827653764805, 38.92028760085032, 37.55255021499, 37.38893079709492, 101.42005752537088, 274.416477102762, 199.57038242369373, 64.56608451266862, 101.10156180350478, 281.21671592860895, 128.61636529976536, 60.59366310002365, 256.32367072873126, 151.78053771325963, 270.55152479859777, 97.25454368179045, 243.9401417446678, 177.68520838936593, 85.12582087424708, 121.0867923887048, 558.4090717083343, 139.67483657257205, 108.13152934736142, 97.73423906678308, 237.38200638270467, 143.9472355838131, 94.34255079940024, 119.97214535325593, 140.49424152950084, 124.57076730324377, 112.83444472767101, 99.0470020240588, 97.31913713552937, 198.17280568765202, 171.09600713034723, 147.55271234495706, 127.87695488872897, 122.72593395057335, 106.1972909445849, 102.53208501868787, 78.11439982476267, 77.70400623564255, 68.20438732792613, 59.655307169439936, 55.51361086445774, 52.78737249682251, 52.94211118715304, 50.449942778604786, 49.49597160813987, 49.4578369545987, 48.57184889369805, 48.414649293429456, 47.84204355937425, 47.17153443593929, 45.530821964967075, 42.56248449429946, 41.184900376721416, 40.85066268869571, 40.31802878518613, 39.80146451016619, 39.32225994776991, 38.56370997570551, 38.57077138855393, 39.018562492293675, 618.3614816764405, 47.61706876051924, 41.53535134082147, 57.97878864787871, 78.88289172176891, 45.54133091984857, 197.32570832021207, 59.61740310807422, 77.96650329570392, 78.05929963542721, 185.02262534727987, 95.87206888434082, 168.0342420266235, 124.64248758618665, 73.03425762906313, 179.15685938999752, 69.87643765356292, 82.4308434165458, 92.83439121245335, 139.52133052137012, 114.58234068212951, 82.89192948227051, 67.34751436432664, 196.71816976167491, 83.89616974698508, 116.03384660283976, 109.69367315645054, 99.91075097008725, 90.89220026316875, 93.75415913695868, 102.7679845943801, 106.26804116025467, 94.15382451962064, 96.13439205522067, 88.53733248420701, 102.74524291360059, 90.07293272516677, 94.01588503630211, 90.44479851998756], \"Total\": [737.0, 779.0, 961.0, 636.0, 359.0, 609.0, 359.0, 758.0, 454.0, 274.0, 266.0, 349.0, 342.0, 322.0, 281.0, 277.0, 273.0, 256.0, 198.0, 629.0, 342.0, 394.0, 209.0, 209.0, 242.0, 229.0, 277.0, 358.0, 214.0, 419.0, 277.79446521849985, 273.72058820540775, 281.3284731564956, 242.4341860062591, 202.45765007544364, 186.44333434621257, 171.06707277456005, 149.14934435061062, 137.23698805816872, 137.347424904427, 134.14744039800237, 132.07551960144582, 128.4671268316773, 112.11694261976199, 110.52111835595478, 88.2977570740501, 85.01881038830716, 85.10722989228356, 80.20461570421232, 78.51091691796503, 77.0507222244363, 74.61662104700595, 73.93135149373464, 69.94379992506961, 64.37806434719555, 63.33528604048145, 63.080025023826714, 62.21346830599845, 58.56345466361294, 56.479754822840334, 65.27485659856234, 779.4315677276688, 277.6250678161757, 76.80212760535883, 636.7759864313708, 609.3749829624965, 322.9534864389526, 140.51782411924705, 158.13847116850678, 230.86191011519264, 561.9384168244019, 456.46106236753945, 201.71555439306724, 231.93550178107364, 448.07382866077114, 340.5209240300287, 215.18336040117035, 368.09020623193794, 1553.1156496678736, 1917.5009959636095, 348.78264648505706, 213.05172451524393, 322.52599676880476, 697.798415519453, 453.7373336326073, 359.05055404953697, 256.05198705507246, 203.12791326705695, 171.26769568448393, 164.23257139449154, 214.52486080044676, 144.70413209726414, 130.27865878803357, 123.29507223850815, 117.87822938298824, 98.97528363977969, 101.45241575626282, 98.24969232660612, 96.09112714320698, 85.6548136062227, 107.13601214403766, 80.08320952431258, 229.02231017878202, 70.79019861222964, 69.82613478617617, 69.02629688020545, 68.14451408016052, 67.97833387483269, 65.0587605379189, 57.90925181694869, 55.80341348249774, 55.33629222181867, 55.59051216296592, 54.59030963730242, 53.44934352924119, 89.98487816801725, 322.4892974604692, 349.09641594566745, 73.12252908453517, 342.57678800730787, 223.29988632842517, 758.9642617875859, 366.94723585546865, 379.62094245968484, 1553.1156496678736, 358.9741902908078, 815.3350887060274, 629.8038311221037, 961.0885470858659, 293.5277159649124, 350.61781202066896, 697.798415519453, 420.85200270277227, 221.03492317351953, 194.53741973064692, 480.72210143012796, 1917.5009959636095, 445.8288229301364, 539.2981200502044, 209.85816794925253, 209.39217166394002, 188.11240106017053, 165.56280528982813, 121.7655442569951, 128.93765866326137, 90.09440115335066, 75.46533941530123, 87.61474910725809, 61.406589470150905, 57.639701501534674, 55.174625412806506, 54.482258458145, 52.99493651565193, 51.93298484956161, 48.04811130198962, 47.17448773846335, 44.80262101465864, 44.76814602143361, 43.740582827074284, 44.702438631286434, 43.18008438837142, 43.08441430937293, 42.2712227318494, 38.30890184056127, 37.856468440297995, 37.616850330405704, 36.50956472506465, 35.99946645077011, 35.666652263579095, 41.10822676857148, 115.38379897912641, 454.25508403570035, 173.7446842717266, 961.0885470858659, 212.26499340075804, 152.76113143543566, 243.957895064774, 252.98622460444003, 63.743385165518674, 322.52599676880476, 444.67329530100653, 545.1425322477221, 351.34322662042734, 108.16447997974969, 1917.5009959636095, 350.61781202066896, 329.62938861465784, 197.68516669405852, 815.3350887060274, 201.98144082855362, 319.083266066482, 201.98029103815733, 758.9642617875859, 1553.1156496678736, 480.72210143012796, 358.9741902908078, 539.2981200502044, 313.9285730159606, 445.8288229301364, 381.66476664088526, 737.0771889342083, 266.78900663221395, 274.1143627467925, 359.34948830857576, 144.90213338718925, 151.088573699991, 97.03414858737946, 90.3116020828157, 80.88439619078669, 72.9996218963207, 67.40548466670487, 73.09143557161352, 55.12262732568361, 54.35618649530538, 54.32091697012729, 54.817836325899286, 52.94052699938463, 52.31916664827003, 49.46247942423948, 47.305108093052304, 46.82222788072608, 44.078089381175964, 42.586320851368654, 41.56998803316464, 40.75161323602078, 42.17906400529902, 39.60899048022507, 39.57002105954431, 39.65584889267141, 38.28234850403342, 38.12242733893463, 108.65732831093526, 342.63076129922524, 245.51337893844192, 69.69178195842335, 118.34136044974821, 394.1214814043947, 160.60051468561068, 66.68074864655536, 417.2503019367519, 218.2377489758104, 458.260175028695, 123.49995119683162, 419.68279315565974, 278.1296114430103, 105.95976860231325, 178.08741312946387, 1917.5009959636095, 232.35340439781174, 161.98452764630775, 141.04210764129616, 629.8038311221037, 299.1641121739618, 137.945444197531, 273.8503408942979, 426.0869911408437, 347.18237608730624, 815.3350887060274, 348.78264648505706, 287.83321793718085, 198.8965092622784, 171.82400616821653, 148.2797345781752, 128.60959901308723, 123.4549725621008, 106.9411825580106, 103.25740328431067, 78.84311864002748, 78.43885105315636, 68.94031810479036, 60.387693099453564, 56.24887244307375, 53.51358057688064, 53.68811174027086, 51.17780403614623, 50.22311629150804, 50.18530878009563, 49.2936575226509, 49.14240186064585, 48.57608076905519, 47.90421119100204, 46.27295066346479, 43.292549283605844, 41.91514748288567, 41.581243377613895, 41.04745943631973, 40.52765606179057, 40.04686252233971, 39.29022553460268, 39.30127187450957, 39.76448230036249, 737.0771889342083, 49.17969968101475, 42.585700628734706, 62.26790982636806, 90.12322184800193, 47.51478152358061, 278.0134595360903, 67.36363260861879, 107.22941942919952, 110.94038193227328, 453.7373336326073, 159.9297421356519, 420.85200270277227, 260.01582344436343, 101.96315103302472, 574.0868126488888, 98.08088893118934, 139.13235551535948, 178.63844001272497, 448.07382866077114, 309.05332770251187, 149.88504507154153, 93.46317688538085, 1917.5009959636095, 187.96566008650598, 609.3749829624965, 539.2981200502044, 381.66476664088526, 273.51198244146485, 319.083266066482, 545.1425322477221, 697.798415519453, 417.2503019367519, 629.8038311221037, 279.0162941123749, 1553.1156496678736, 426.0869911408437, 961.0885470858659, 636.7759864313708], \"Category\": [\"Default\", \"Default\", \"Default\", \"Default\", \"Default\", \"Default\", \"Default\", \"Default\", \"Default\", \"Default\", \"Default\", \"Default\", \"Default\", \"Default\", \"Default\", \"Default\", \"Default\", \"Default\", \"Default\", \"Default\", \"Default\", \"Default\", \"Default\", \"Default\", \"Default\", \"Default\", \"Default\", \"Default\", \"Default\", \"Default\", \"Topic1\", \"Topic1\", \"Topic1\", \"Topic1\", \"Topic1\", \"Topic1\", \"Topic1\", \"Topic1\", \"Topic1\", \"Topic1\", \"Topic1\", \"Topic1\", \"Topic1\", \"Topic1\", \"Topic1\", \"Topic1\", \"Topic1\", \"Topic1\", \"Topic1\", \"Topic1\", \"Topic1\", \"Topic1\", \"Topic1\", \"Topic1\", \"Topic1\", \"Topic1\", \"Topic1\", \"Topic1\", \"Topic1\", \"Topic1\", \"Topic1\", \"Topic1\", \"Topic1\", \"Topic1\", \"Topic1\", \"Topic1\", \"Topic1\", \"Topic1\", \"Topic1\", \"Topic1\", \"Topic1\", \"Topic1\", \"Topic1\", \"Topic1\", \"Topic1\", \"Topic1\", \"Topic1\", \"Topic1\", \"Topic1\", \"Topic1\", \"Topic1\", \"Topic1\", \"Topic1\", \"Topic1\", \"Topic1\", \"Topic2\", \"Topic2\", \"Topic2\", \"Topic2\", \"Topic2\", \"Topic2\", \"Topic2\", \"Topic2\", \"Topic2\", \"Topic2\", \"Topic2\", \"Topic2\", \"Topic2\", \"Topic2\", \"Topic2\", \"Topic2\", \"Topic2\", \"Topic2\", \"Topic2\", \"Topic2\", \"Topic2\", \"Topic2\", \"Topic2\", \"Topic2\", \"Topic2\", \"Topic2\", \"Topic2\", \"Topic2\", \"Topic2\", \"Topic2\", \"Topic2\", \"Topic2\", \"Topic2\", \"Topic2\", \"Topic2\", \"Topic2\", \"Topic2\", \"Topic2\", \"Topic2\", \"Topic2\", \"Topic2\", \"Topic2\", \"Topic2\", \"Topic2\", \"Topic2\", \"Topic2\", \"Topic2\", \"Topic2\", \"Topic2\", \"Topic2\", \"Topic2\", \"Topic2\", \"Topic2\", \"Topic2\", \"Topic3\", \"Topic3\", \"Topic3\", \"Topic3\", \"Topic3\", \"Topic3\", \"Topic3\", \"Topic3\", \"Topic3\", \"Topic3\", \"Topic3\", \"Topic3\", \"Topic3\", \"Topic3\", \"Topic3\", \"Topic3\", \"Topic3\", \"Topic3\", \"Topic3\", \"Topic3\", \"Topic3\", \"Topic3\", \"Topic3\", \"Topic3\", \"Topic3\", \"Topic3\", \"Topic3\", \"Topic3\", \"Topic3\", \"Topic3\", \"Topic3\", \"Topic3\", \"Topic3\", \"Topic3\", \"Topic3\", \"Topic3\", \"Topic3\", \"Topic3\", \"Topic3\", \"Topic3\", \"Topic3\", \"Topic3\", \"Topic3\", \"Topic3\", \"Topic3\", \"Topic3\", \"Topic3\", \"Topic3\", \"Topic3\", \"Topic3\", \"Topic3\", \"Topic3\", \"Topic3\", \"Topic3\", \"Topic3\", \"Topic3\", \"Topic3\", \"Topic3\", \"Topic3\", \"Topic3\", \"Topic3\", \"Topic3\", \"Topic4\", \"Topic4\", \"Topic4\", \"Topic4\", \"Topic4\", \"Topic4\", \"Topic4\", \"Topic4\", \"Topic4\", \"Topic4\", \"Topic4\", \"Topic4\", \"Topic4\", \"Topic4\", \"Topic4\", \"Topic4\", \"Topic4\", \"Topic4\", \"Topic4\", \"Topic4\", \"Topic4\", \"Topic4\", \"Topic4\", \"Topic4\", \"Topic4\", \"Topic4\", \"Topic4\", \"Topic4\", \"Topic4\", \"Topic4\", \"Topic4\", \"Topic4\", \"Topic4\", \"Topic4\", \"Topic4\", \"Topic4\", \"Topic4\", \"Topic4\", \"Topic4\", \"Topic4\", \"Topic4\", \"Topic4\", \"Topic4\", \"Topic4\", \"Topic4\", \"Topic4\", \"Topic4\", \"Topic4\", \"Topic4\", \"Topic4\", \"Topic4\", \"Topic4\", \"Topic4\", \"Topic4\", \"Topic4\", \"Topic4\", \"Topic4\", \"Topic4\", \"Topic4\", \"Topic5\", \"Topic5\", \"Topic5\", \"Topic5\", \"Topic5\", \"Topic5\", \"Topic5\", \"Topic5\", \"Topic5\", \"Topic5\", \"Topic5\", \"Topic5\", \"Topic5\", \"Topic5\", \"Topic5\", \"Topic5\", \"Topic5\", \"Topic5\", \"Topic5\", \"Topic5\", \"Topic5\", \"Topic5\", \"Topic5\", \"Topic5\", \"Topic5\", \"Topic5\", \"Topic5\", \"Topic5\", \"Topic5\", \"Topic5\", \"Topic5\", \"Topic5\", \"Topic5\", \"Topic5\", \"Topic5\", \"Topic5\", \"Topic5\", \"Topic5\", \"Topic5\", \"Topic5\", \"Topic5\", \"Topic5\", \"Topic5\", \"Topic5\", \"Topic5\", \"Topic5\", \"Topic5\", \"Topic5\", \"Topic5\", \"Topic5\", \"Topic5\", \"Topic5\", \"Topic5\", \"Topic5\", \"Topic5\", \"Topic5\", \"Topic5\", \"Topic5\", \"Topic5\", \"Topic5\", \"Topic5\", \"Topic5\", \"Topic5\", \"Topic5\", \"Topic5\", \"Topic5\", \"Topic5\", \"Topic5\", \"Topic5\", \"Topic5\"], \"logprob\": [30.0, 29.0, 28.0, 27.0, 26.0, 25.0, 24.0, 23.0, 22.0, 21.0, 20.0, 19.0, 18.0, 17.0, 16.0, 15.0, 14.0, 13.0, 12.0, 11.0, 10.0, 9.0, 8.0, 7.0, 6.0, 5.0, 4.0, 3.0, 2.0, 1.0, -5.1371, -5.1519, -5.1248, -5.2736, -5.4544, -5.5372, -5.6235, -5.7617, -5.845, -5.8442, -5.8679, -5.8835, -5.9113, -6.0484, -6.0628, -6.2889, -6.3271, -6.3261, -6.3859, -6.4075, -6.4264, -6.4588, -6.4682, -6.5242, -6.6079, -6.6245, -6.6286, -6.6425, -6.7038, -6.7403, -6.5957, -4.1559, -5.1854, -6.4396, -4.4591, -4.5613, -5.1452, -5.901, -5.809, -5.5127, -4.8853, -5.0928, -5.7076, -5.6222, -5.1749, -5.3646, -5.736, -5.4156, -4.7435, -4.6707, -5.5827, -5.7602, -5.733, -5.6419, -5.7403, -4.7867, -5.1256, -5.358, -5.5291, -5.5713, -5.3043, -5.6985, -5.8041, -5.8595, -5.9047, -6.0807, -6.0567, -6.0889, -6.1112, -6.2263, -6.0027, -6.2941, -5.2439, -6.4187, -6.4326, -6.4442, -6.4572, -6.4597, -6.5041, -6.6219, -6.6595, -6.668, -6.6635, -6.6819, -6.7031, -6.191, -4.9541, -4.8938, -6.4192, -5.0523, -5.4478, -4.4893, -5.0911, -5.1672, -4.1295, -5.2465, -4.8066, -5.0064, -4.8042, -5.5271, -5.4288, -5.1446, -5.3919, -5.7364, -5.7962, -5.4843, -5.1857, -5.6615, -5.6899, -5.1821, -5.1844, -5.2919, -5.4201, -5.729, -5.6722, -6.0323, -6.2111, -6.0636, -6.4196, -6.4836, -6.5278, -6.5407, -6.5687, -6.5893, -6.6682, -6.687, -6.7391, -6.74, -6.7636, -6.742, -6.7767, -6.7791, -6.7988, -6.8986, -6.9108, -6.9172, -6.9475, -6.9621, -6.9717, -6.8369, -5.8956, -4.7155, -5.5825, -4.2876, -5.5223, -5.8035, -5.4557, -5.502, -6.505, -5.3939, -5.2102, -5.0814, -5.3991, -6.166, -4.3509, -5.4405, -5.5447, -5.8536, -5.0907, -5.8476, -5.6175, -5.8585, -5.2127, -4.8966, -5.5184, -5.6409, -5.5831, -5.7362, -5.6695, -5.7163, -5.7609, -4.8608, -4.8338, -4.5651, -5.4735, -5.4319, -5.877, -5.9494, -6.0606, -6.1641, -6.2446, -6.1656, -6.4482, -6.4625, -6.4632, -6.4542, -6.4892, -6.5014, -6.5582, -6.6036, -6.614, -6.6755, -6.7102, -6.735, -6.755, -6.7208, -6.784, -6.7851, -6.783, -6.8188, -6.8232, -5.8253, -4.8299, -5.1484, -6.2769, -5.8284, -4.8054, -5.5877, -6.3403, -4.8981, -5.4221, -4.8441, -5.8672, -4.9476, -5.2645, -6.0004, -5.648, -4.1194, -5.5052, -5.7612, -5.8623, -4.9749, -5.4751, -5.8976, -5.6573, -5.4994, -5.6197, -5.7186, -5.8489, -5.8665, -5.099, -5.2459, -5.3939, -5.5371, -5.5782, -5.7228, -5.7579, -6.0299, -6.0352, -6.1656, -6.2995, -6.3715, -6.4219, -6.4189, -6.4671, -6.4862, -6.487, -6.5051, -6.5083, -6.5202, -6.5343, -6.5697, -6.6371, -6.6701, -6.6782, -6.6913, -6.7042, -6.7163, -6.7358, -6.7356, -6.7241, -3.9611, -6.5249, -6.6616, -6.328, -6.0202, -6.5695, -5.1033, -6.3002, -6.0318, -6.0307, -5.1676, -5.8251, -5.264, -5.5627, -6.0972, -5.1999, -6.1414, -5.9762, -5.8573, -5.4499, -5.6468, -5.9706, -6.1783, -5.1064, -5.9585, -5.6342, -5.6904, -5.7838, -5.8784, -5.8474, -5.7556, -5.7222, -5.8432, -5.8224, -5.9047, -5.7559, -5.8875, -5.8447, -5.8834], \"loglift\": [30.0, 29.0, 28.0, 27.0, 26.0, 25.0, 24.0, 23.0, 22.0, 21.0, 20.0, 19.0, 18.0, 17.0, 16.0, 15.0, 14.0, 13.0, 12.0, 11.0, 10.0, 9.0, 8.0, 7.0, 6.0, 5.0, 4.0, 3.0, 2.0, 1.0, 1.4126, 1.4126, 1.4123, 1.4122, 1.4116, 1.4113, 1.411, 1.41, 1.4099, 1.4099, 1.4098, 1.4098, 1.4096, 1.4087, 1.4086, 1.407, 1.4067, 1.4066, 1.4061, 1.4059, 1.4058, 1.4054, 1.4053, 1.4048, 1.4039, 1.4037, 1.4036, 1.4035, 1.4027, 1.4024, 1.4024, 1.3621, 1.3649, 1.3958, 1.2611, 1.2029, 1.2539, 1.3302, 1.3041, 1.2221, 0.9599, 0.9603, 1.1622, 1.1079, 0.8967, 0.9816, 1.0691, 0.8527, 0.0851, -0.0529, 0.7395, 1.0549, 0.6675, -0.0132, 0.3188, 1.5064, 1.5056, 1.5048, 1.5042, 1.5041, 1.5039, 1.5034, 1.5029, 1.5025, 1.5023, 1.501, 1.5003, 1.5002, 1.5001, 1.5, 1.4998, 1.4994, 1.4989, 1.4982, 1.498, 1.4979, 1.4978, 1.4977, 1.4972, 1.4958, 1.4953, 1.4952, 1.4951, 1.4948, 1.4948, 1.486, 1.4464, 1.4275, 1.4653, 1.2879, 1.3203, 1.0553, 1.1803, 1.0703, 0.6991, 1.0469, 0.6664, 0.7248, 0.5044, 0.9676, 0.8881, 0.4841, 0.7424, 1.0419, 1.1098, 0.5171, -0.5679, 0.4151, 0.1964, 1.6481, 1.648, 1.6476, 1.6471, 1.6455, 1.6451, 1.6434, 1.6419, 1.6401, 1.6395, 1.6388, 1.6383, 1.638, 1.6377, 1.6374, 1.6362, 1.6358, 1.6352, 1.6351, 1.6347, 1.6346, 1.6345, 1.6343, 1.6337, 1.6323, 1.632, 1.6319, 1.6315, 1.631, 1.6308, 1.6235, 1.5328, 1.3425, 1.4365, 1.021, 1.2965, 1.3443, 1.224, 1.1413, 1.5167, 1.0066, 0.8691, 0.7941, 0.9157, 1.327, 0.267, 0.8764, 0.834, 1.0363, 0.3823, 1.0208, 0.7937, 1.01, 0.332, -0.068, 0.4829, 0.6525, 0.3033, 0.6913, 0.4071, 0.5158, -0.187, 1.7293, 1.7293, 1.7272, 1.7271, 1.7269, 1.7245, 1.724, 1.723, 1.7221, 1.7212, 1.7193, 1.7188, 1.7186, 1.7185, 1.7184, 1.7182, 1.7179, 1.7172, 1.7164, 1.7162, 1.7152, 1.7149, 1.7143, 1.7141, 1.7139, 1.7136, 1.7135, 1.7134, 1.7128, 1.7127, 1.6632, 1.5101, 1.5249, 1.6557, 1.5746, 1.3945, 1.51, 1.6364, 1.2448, 1.3689, 1.2051, 1.4932, 1.1895, 1.284, 1.5131, 1.3463, 0.4984, 1.2231, 1.3279, 1.3653, 0.7563, 1.0005, 1.3522, 0.9068, 0.6226, 0.7071, -0.2456, 0.4732, 0.6477, 1.7848, 1.7842, 1.7836, 1.7828, 1.7826, 1.7815, 1.7814, 1.7792, 1.7791, 1.7778, 1.7763, 1.7753, 1.7748, 1.7745, 1.7742, 1.7739, 1.7739, 1.7737, 1.7736, 1.7733, 1.7731, 1.7723, 1.7715, 1.7709, 1.7708, 1.7706, 1.7704, 1.7702, 1.7698, 1.7697, 1.7696, 1.6129, 1.7562, 1.7635, 1.7171, 1.6553, 1.7461, 1.4457, 1.6663, 1.4698, 1.437, 0.8915, 1.2768, 0.8704, 1.0532, 1.4548, 0.624, 1.4494, 1.265, 1.1339, 0.6218, 0.7963, 1.1962, 1.4608, -0.4885, 0.9818, 0.1299, 0.1959, 0.4482, 0.6868, 0.5637, 0.1199, -0.0935, 0.2997, -0.0912, 0.6406, -0.9273, 0.2345, -0.5361, -0.1632]}, \"token.table\": {\"Topic\": [3, 3, 4, 1, 5, 1, 3, 5, 1, 2, 3, 4, 5, 1, 3, 4, 5, 1, 2, 3, 4, 5, 2, 2, 4, 2, 3, 4, 1, 5, 1, 5, 4, 3, 3, 3, 3, 1, 1, 2, 4, 5, 2, 2, 2, 4, 5, 1, 2, 5, 1, 4, 2, 5, 4, 5, 1, 4, 1, 1, 3, 4, 1, 2, 1, 2, 3, 4, 5, 1, 2, 2, 2, 5, 4, 5, 2, 3, 4, 5, 2, 3, 5, 1, 1, 5, 1, 5, 2, 3, 1, 3, 2, 3, 4, 5, 2, 3, 3, 4, 5, 1, 3, 1, 1, 4, 3, 4, 2, 1, 2, 4, 5, 2, 3, 4, 5, 5, 1, 5, 4, 4, 1, 4, 3, 1, 3, 1, 4, 1, 2, 3, 4, 5, 4, 3, 4, 5, 1, 2, 3, 4, 5, 1, 3, 5, 2, 3, 4, 5, 4, 1, 4, 2, 2, 4, 5, 4, 1, 2, 4, 1, 2, 1, 2, 3, 5, 4, 1, 3, 2, 2, 5, 1, 5, 1, 3, 3, 1, 3, 1, 5, 1, 1, 5, 3, 4, 5, 3, 5, 2, 2, 1, 2, 3, 4, 5, 3, 2, 3, 4, 5, 1, 2, 3, 2, 4, 2, 2, 4, 5, 1, 1, 5, 1, 2, 3, 4, 5, 1, 4, 5, 1, 1, 1, 3, 4, 5, 1, 2, 4, 1, 2, 3, 4, 5, 2, 3, 3, 3, 4, 5, 2, 2, 3, 4, 5, 5, 1, 3, 4, 5, 2, 3, 4, 5, 2, 2, 3, 2, 3, 4, 5, 2, 5, 1, 3, 4, 4, 5, 5, 3, 4, 5, 1, 2, 3, 5, 4, 5, 1, 3, 4, 5, 2, 3, 4, 5, 1, 2, 3, 5, 1, 2, 3, 4, 1, 2, 4, 5, 1, 2, 3, 4, 5, 1, 2, 3, 4, 5, 2, 1, 2, 3, 5, 4, 3, 1, 2, 3, 4, 5, 2, 1, 2, 5, 3, 4, 4, 1, 4, 5, 1, 2, 3, 4, 5, 1, 3, 5, 5, 3, 1, 2, 3, 3, 3, 1, 3, 5, 3, 1, 3, 1, 2, 3, 4, 5, 1, 2, 3, 5, 4, 1, 3, 4, 3, 5, 1, 1, 4, 5, 5, 1, 1, 3, 5, 1, 1, 2, 3, 4, 3, 1, 2, 3, 4, 5, 3, 1, 1, 1, 2, 4, 1, 5, 3, 3, 2, 5, 5, 1, 4, 1, 2, 5, 5, 5, 4, 3, 3, 4, 1, 2, 3, 4, 5, 2, 3, 4, 5, 3, 5, 4, 5, 4, 2, 5, 2, 3, 4, 3, 5, 2, 3, 5, 5, 1, 2, 3, 4, 5, 1, 2, 3, 4, 5, 5, 2, 1, 3, 4, 5, 2, 5, 1, 2, 3, 4, 5, 1, 1, 2, 3, 1, 2, 3, 5, 3, 1, 1, 1, 3, 1, 2, 3, 3, 1, 2, 3, 5, 2, 4, 5, 2, 3, 5, 1, 2, 3, 4, 5, 4, 1, 2, 3, 4, 5, 1, 3, 4, 5, 1, 2, 3, 4, 5, 4, 5, 1, 2, 3, 4, 5], \"Freq\": [0.9836017549319619, 0.18328940033562466, 0.8146195570472207, 0.8090256636451735, 0.1903589796812173, 0.99528489791176, 0.44033745974121424, 0.5537577145230421, 0.0023966429631286, 0.043139573336314796, 0.11503886223017279, 0.6135405985609216, 0.2252844385340884, 0.060894929945151645, 0.0735813736837249, 0.7129781381078172, 0.1522373248628791, 0.23050835484853552, 0.12516290761006454, 0.2503258152201291, 0.2910037601934001, 0.10273788666326131, 0.9864739496487872, 0.9872804453936421, 0.9863064784398412, 0.9923552036522658, 0.9787107677846805, 0.9934471765171359, 0.8574443943150261, 0.14133698807390538, 0.9973674314740731, 0.9963146679906154, 0.9850675313314355, 0.9938337332223424, 0.996600653819299, 0.9940865086304719, 0.9722366315585012, 0.9865063104080605, 0.8230028067652916, 0.004331593719817324, 0.17326374879269296, 0.9807747452968721, 0.990146189999018, 0.9893965425695482, 0.9888374573356101, 0.020333593057422397, 0.976012466756275, 0.7063743205637442, 0.21841837543747353, 0.06970799216089581, 0.19302553332836553, 0.8032352838502952, 0.27460901037602414, 0.7159449199089201, 0.9824393686942747, 0.9911990634898763, 0.9976221496586769, 0.9938996228587563, 0.9982090561838177, 0.03624621334243014, 0.27547122140246905, 0.6814288108376866, 0.9869901782294532, 0.9958915098954253, 0.6335213776837136, 0.04448886079239562, 0.1583803444209284, 0.14236435453566598, 0.021354653180349896, 0.6490056393142855, 0.34946457501538447, 0.9951339876266225, 0.9856027896438679, 0.9940426915467581, 0.9959346794687228, 0.9954925842308463, 0.4572852462438638, 0.012702367951218438, 0.3763076505548463, 0.15242841541462127, 0.005755571770104103, 0.8057800478145744, 0.1841782966433313, 0.9918567831139993, 0.9874024825068487, 0.9893063763259177, 0.9180330026355039, 0.07828188394566313, 0.6295717244098123, 0.36771445850484613, 0.10400073585868731, 0.8840062547988421, 0.6733922973861804, 0.3238451506513692, 0.023482060532902208, 0.9862465423818928, 0.9886448710131078, 0.9748304734610952, 0.3670883286247321, 0.1862042246647192, 0.44689013919532605, 0.9941274353146653, 0.9773759023071923, 0.9915057205126832, 0.1887508840743483, 0.8021912573159803, 0.9927278137901495, 0.9822342720654148, 0.9915930954512966, 0.0111129783176772, 0.9779420919555935, 0.997042581918296, 0.9744817474527324, 0.9832046042794554, 0.19846437530054242, 0.7996946887110091, 0.9781666643721262, 0.9923342970814905, 0.7372739347226313, 0.26300415215251755, 0.9890659233123208, 0.9855946232960919, 0.9982731473378863, 0.9965497004191116, 0.9981270949108383, 0.10981531623749687, 0.8785225298999749, 0.9977395268824216, 0.9906498940283038, 0.2042891444076131, 0.17920100386632726, 0.14336080309306182, 0.15411286332504145, 0.3189777868820625, 0.9862321787924582, 0.25489165394432, 0.030586998473318402, 0.7136966310440961, 0.0344737602056139, 0.1723688010280695, 0.4230870570688979, 0.07521547681224851, 0.29459395084797335, 0.28844321105307996, 0.009013850345408749, 0.7030803269418824, 0.3662513730574624, 0.5327292699017635, 0.0031214605658306453, 0.0978057643960269, 0.9940922026352431, 0.30487349288170945, 0.6948279605211052, 0.9984369750324832, 0.4657219135022757, 0.13543953606953935, 0.39919021157337914, 0.9939843965411741, 0.851515811246654, 0.08979621282237442, 0.05883200150431427, 0.0773425299336279, 0.9223812829121549, 0.5705123267193818, 0.22548820532242234, 0.08150176095991168, 0.12225264143986753, 0.9893424263268698, 0.39923122358903096, 0.6008232275795318, 0.997074077625871, 0.9944472758622097, 0.9871831636843597, 0.9481268537204083, 0.05131945081030627, 0.9922940033319301, 0.9812258192750533, 0.9820348309987522, 0.8979472164536725, 0.10117715114970957, 0.991736143524678, 0.9811245991005508, 0.9804950866903935, 0.9963638415274179, 0.9763813592282659, 0.7211239772483813, 0.12943250873688894, 0.1479228671278731, 0.064238546165334, 0.9314589193973432, 0.9893774649667769, 0.9976067799535625, 0.1389335840455637, 0.09871596761132158, 0.14990202489126608, 0.2778671680911274, 0.3327093723196394, 0.975103328201999, 0.9939227547001049, 0.24459247445598073, 0.04316337784517307, 0.7085987862915912, 0.1744119964571909, 0.7194494853859126, 0.1035571228964571, 0.9978610557506049, 0.9815562335736828, 0.9851317986536844, 0.15063261108959944, 0.6025304443583978, 0.24531596663163338, 0.9828784940491263, 0.9880166473318794, 0.9932425027297566, 0.24673146809361302, 0.33420898859953035, 0.2871057083271133, 0.00897205338522229, 0.12112272070050094, 0.40167925167001467, 0.4381955472763796, 0.15702007110736937, 0.9971400970214617, 0.9974704665583011, 0.22306334757511587, 0.2384470267182273, 0.0576887967866679, 0.48073997322223244, 0.19557658996607427, 0.8027397349353794, 0.9927951288880883, 0.351519445957165, 0.004950978112072746, 0.5248036798797111, 0.009901956224145492, 0.10892151846560041, 0.2618467120800684, 0.7331707938241914, 0.9937129648484192, 0.9919365519312745, 0.9326781174683929, 0.07174447057449176, 0.9837260880907528, 0.03086714560119884, 0.12964201152503513, 0.6667303449858949, 0.16668258624647372, 0.9863604037428277, 0.25887211227328466, 0.061122582064525546, 0.6399893886756205, 0.043145352045547446, 0.3142088110666819, 0.2005588155744778, 0.4813411573787467, 0.006685293852482593, 0.9881686880033388, 0.45526936342819174, 0.5412646876312946, 0.5390484839054852, 0.462041557633273, 0.9937741883704453, 0.9767532351413066, 0.12205511270504889, 0.8765776276089875, 0.08706101528799204, 0.21536145887029612, 0.6964881223039363, 0.9295277324597662, 0.06442271413087489, 0.9941012911527966, 0.12839281094324748, 0.14979161276712205, 0.7168598610997984, 0.2389078486213069, 0.3726962438492388, 0.38225255779409106, 0.0031854379816174255, 0.9846249431545319, 0.9738590626979647, 0.307375003463995, 0.007148255894511511, 0.5813914794202696, 0.10245833448799832, 0.21899357913435602, 0.09545873962266802, 0.6794416173142841, 0.005615219977804, 0.21863914952166916, 0.6453806220820355, 0.1185392979334351, 0.015805239724458013, 0.5074793765795433, 0.011468460487673296, 0.194963828290446, 0.28384439706991405, 0.016900262025036195, 0.016900262025036195, 0.8534632322643279, 0.10985170316273526, 0.13064226236785195, 0.21773710394641993, 0.17593157998870732, 0.1637383021677078, 0.3117995328512733, 0.16396271983482838, 0.08198135991741419, 0.6517518113434428, 0.057386951942189936, 0.045089747954577805, 0.9891865490189663, 0.15775292433281443, 0.35797778983215583, 0.4429216721652097, 0.045505651249850315, 0.9926245772512187, 0.9726706326519079, 0.2018367182948624, 0.1877550867859185, 0.06806121895989546, 0.3285714018753574, 0.21122447263415833, 0.9842986778723573, 0.9903787324902636, 0.9856081516114521, 0.995575512321147, 0.9860429799998459, 0.9796340018582435, 0.9720462264133958, 0.9509227753698477, 0.04682574272654553, 0.9952043594687822, 0.1592981541444856, 0.07637582732954788, 0.06982932784415806, 0.5913671201802135, 0.1047439917662371, 0.39185295166602263, 0.08956638895223375, 0.5206046357848586, 0.9926132891666126, 0.9878527284787889, 0.008732773669249677, 0.9911698114598384, 0.9781862122445961, 0.9842863464993427, 0.9889017207780363, 0.5958839434965996, 0.09150277784030181, 0.31244850969859156, 0.9830687480776803, 0.9765354468483098, 0.013020472624644132, 0.6353225365945757, 0.2563197820053978, 0.004381534735135005, 0.10515683364324012, 0.9756463480997722, 0.6993606850121459, 0.15489196379463635, 0.046936958725647376, 0.10326130919642423, 0.9755413767631141, 0.18373260411511982, 0.7019527695680219, 0.11306621791699682, 0.10391363602182568, 0.8906883087585058, 0.9934924092340065, 0.9804694079007688, 0.9834614839680658, 0.9935799319438305, 0.9881406494732656, 0.9863632397711248, 0.20843462250445802, 0.20124722172844223, 0.589366863633295, 0.9900376999794757, 0.3927783134669276, 0.11954122583776058, 0.47816490335104234, 0.00853865898841147, 0.9933787322556231, 0.1598261231626757, 0.17554672544097163, 0.3222723467050674, 0.07860301139147985, 0.2620100379715995, 0.9820854004412813, 0.9937622550193147, 0.9947061731075605, 0.12091363074089935, 0.8284822847061621, 0.0492611088203664, 0.984980718458214, 0.9860215007921861, 0.9828416834356767, 0.9959107240969527, 0.40017572182237, 0.600263582733555, 0.9952600815353977, 0.20242922979099423, 0.7854254115890577, 0.7783237166434198, 0.044617283119686484, 0.17846913247874593, 0.9981134672315742, 0.9769860380231563, 0.9850808353500649, 0.9935837500237473, 0.08998099334192092, 0.9148067656428627, 0.30809135931417353, 0.15741894271527115, 0.4565149338742863, 0.0742117872800564, 0.004497684077579176, 0.9925496897299427, 0.15873507111131538, 0.0013567100094984221, 0.8384467858700249, 0.2704481676238848, 0.7274123129194142, 0.021046082249241125, 0.9681197834650918, 0.9705572961302942, 0.93956606431921, 0.05891668390120458, 0.6350760164447626, 0.267469774560761, 0.09618371203416529, 0.97304124123839, 0.02432603103095975, 0.2619673487036805, 0.7330682951119799, 0.002201406291627567, 0.9904027992269588, 0.13574431570195872, 0.20361647355293808, 0.42374239090746574, 0.04585956611552659, 0.18894141239596957, 0.2646293597568799, 0.4449121352603504, 0.17899504139273142, 0.04507069387586762, 0.06631830670306237, 0.9944051825432915, 0.9985838899524205, 0.334995577249711, 0.17190562516761485, 0.08595281258380742, 0.4077248802052404, 0.9975533800675205, 0.9975071687247264, 0.060097989990551194, 0.4304978466670096, 0.28086611648645354, 0.1385933238557609, 0.08953374019000483, 0.9966278070483672, 0.3709821001255415, 0.6288599014323204, 0.9911483394449317, 0.009901899856718247, 0.440634543623962, 0.5347025922627853, 0.014852849785077369, 0.9929834974873293, 0.998832421216345, 0.9914464234681032, 0.474380364785523, 0.5239887689461005, 0.3849721639693737, 0.5825684959182558, 0.030661499785171357, 0.9813088074918698, 0.2641858978860767, 0.37027629782458, 0.3099503841340585, 0.054085301929433026, 0.9955406113014623, 0.9962446355081019, 0.0027828062444360388, 0.9572973046251546, 0.013675675780359352, 0.013675675780359352, 0.1594665302968126, 0.26886798712834686, 0.25959667722736934, 0.10940145683153424, 0.2039688178215045, 0.99355020831044, 0.18760864498893737, 0.010422702499385409, 0.3717430558114129, 0.3370007141467949, 0.09033008832800687, 0.44328919225187335, 0.10677768864461183, 0.07765650083244496, 0.3721040664887988, 0.06624760236739716, 0.2189051208661819, 0.19010181548905272, 0.360041317214115, 0.16417884064963645, 0.9862884725222941, 0.9869803459399161, 0.2393241318492854, 0.3597027370908421, 0.1246778411430409, 0.1246778411430409, 0.15190633518577396], \"Term\": [\"accountable\", \"across\", \"across\", \"act\", \"act\", \"address\", \"administration\", \"administration\", \"american\", \"american\", \"american\", \"american\", \"american\", \"americans\", \"americans\", \"americans\", \"americans\", \"amp\", \"amp\", \"amp\", \"amp\", \"amp\", \"anniversary\", \"annual\", \"attack\", \"award\", \"barbara\", \"believe\", \"bill\", \"bill\", \"bipartisan\", \"birthday\", \"brave\", \"bush\", \"business\", \"businesses\", \"ca\", \"calling\", \"care\", \"care\", \"care\", \"catch\", \"celebrating\", \"center\", \"ceremony\", \"chair\", \"chair\", \"chairman\", \"chairman\", \"chairman\", \"children\", \"children\", \"class\", \"class\", \"coast\", \"code\", \"colleagues\", \"committed\", \"committee\", \"communities\", \"communities\", \"communities\", \"conference\", \"congratulations\", \"congress\", \"congress\", \"congress\", \"congress\", \"congress\", \"congressional\", \"congressional\", \"congressman\", \"council\", \"counsel\", \"country\", \"cuts\", \"day\", \"day\", \"day\", \"day\", \"dc\", \"dc\", \"dc\", \"de\", \"deadline\", \"defense\", \"democrats\", \"democrats\", \"discuss\", \"discuss\", \"discussion\", \"discussion\", \"district\", \"district\", \"dollars\", \"dollars\", \"dr\", \"east\", \"economy\", \"economy\", \"economy\", \"el\", \"election\", \"en\", \"enforcement\", \"enforcement\", \"enjoyed\", \"enough\", \"et\", \"event\", \"event\", \"every\", \"executive\", \"facebook\", \"families\", \"families\", \"far\", \"favorite\", \"federal\", \"federal\", \"fighting\", \"five\", \"floor\", \"food\", \"forward\", \"four\", \"four\", \"funding\", \"funds\", \"get\", \"get\", \"get\", \"get\", \"get\", \"god\", \"going\", \"going\", \"going\", \"good\", \"good\", \"good\", \"good\", \"good\", \"gop\", \"gop\", \"gop\", \"great\", \"great\", \"great\", \"great\", \"growth\", \"gun\", \"gun\", \"hall\", \"happy\", \"happy\", \"happy\", \"hardworking\", \"health\", \"health\", \"health\", \"hearing\", \"hearing\", \"help\", \"help\", \"help\", \"help\", \"helping\", \"high\", \"high\", \"honor\", \"honored\", \"honoring\", \"house\", \"house\", \"hr\", \"huge\", \"hurricane\", \"icymi\", \"icymi\", \"improve\", \"industry\", \"insurance\", \"introduced\", \"investigation\", \"in\\u2026\", \"in\\u2026\", \"in\\u2026\", \"irs\", \"irs\", \"israel\", \"issues\", \"it\\u2019s\", \"it\\u2019s\", \"it\\u2019s\", \"it\\u2019s\", \"it\\u2019s\", \"ive\", \"i\\u2019ll\", \"jobs\", \"jobs\", \"jobs\", \"join\", \"join\", \"join\", \"joining\", \"killed\", \"king\", \"know\", \"know\", \"know\", \"korea\", \"la\", \"largest\", \"last\", \"last\", \"last\", \"last\", \"last\", \"law\", \"law\", \"law\", \"legislation\", \"letter\", \"like\", \"like\", \"like\", \"like\", \"live\", \"live\", \"lives\", \"local\", \"local\", \"local\", \"local\", \"local\", \"look\", \"look\", \"looking\", \"loss\", \"love\", \"love\", \"loved\", \"made\", \"made\", \"made\", \"made\", \"major\", \"make\", \"make\", \"make\", \"make\", \"many\", \"many\", \"many\", \"many\", \"mark\", \"meet\", \"meet\", \"meeting\", \"meeting\", \"men\", \"message\", \"middle\", \"middle\", \"million\", \"million\", \"million\", \"millions\", \"millions\", \"moms\", \"money\", \"money\", \"money\", \"morning\", \"morning\", \"morning\", \"morning\", \"mothers\", \"mueller\", \"must\", \"must\", \"must\", \"must\", \"nation\", \"nation\", \"nation\", \"nation\", \"national\", \"national\", \"national\", \"national\", \"need\", \"need\", \"need\", \"need\", \"never\", \"never\", \"never\", \"never\", \"new\", \"new\", \"new\", \"new\", \"new\", \"news\", \"news\", \"news\", \"news\", \"news\", \"number\", \"office\", \"office\", \"office\", \"office\", \"officer\", \"oil\", \"one\", \"one\", \"one\", \"one\", \"one\", \"ones\", \"online\", \"opening\", \"order\", \"owners\", \"paid\", \"participate\", \"passed\", \"passed\", \"pay\", \"people\", \"people\", \"people\", \"people\", \"people\", \"plan\", \"plan\", \"plan\", \"play\", \"pleasure\", \"pm\", \"pm\", \"positive\", \"powerful\", \"praying\", \"president\", \"president\", \"president\", \"productive\", \"programs\", \"programs\", \"proud\", \"proud\", \"proud\", \"proud\", \"raise\", \"read\", \"read\", \"read\", \"read\", \"reckless\", \"reform\", \"reform\", \"reform\", \"release\", \"release\", \"republican\", \"resolution\", \"result\", \"role\", \"rules\", \"rural\", \"safe\", \"safe\", \"safe\", \"safety\", \"school\", \"school\", \"school\", \"school\", \"season\", \"see\", \"see\", \"see\", \"see\", \"see\", \"seeing\", \"senate\", \"sent\", \"service\", \"service\", \"service\", \"services\", \"sessions\", \"set\", \"small\", \"special\", \"special\", \"spending\", \"stand\", \"stand\", \"statement\", \"statement\", \"statement\", \"states\", \"stay\", \"stopping\", \"stories\", \"story\", \"story\", \"students\", \"students\", \"students\", \"students\", \"students\", \"subcommittee\", \"tax\", \"tax\", \"tax\", \"taxes\", \"taxes\", \"taxpayers\", \"taxpayers\", \"tell\", \"th\", \"th\", \"thank\", \"thank\", \"thank\", \"thankful\", \"thankful\", \"thanks\", \"thanks\", \"thanks\", \"thing\", \"time\", \"time\", \"time\", \"time\", \"time\", \"today\", \"today\", \"today\", \"today\", \"today\", \"tour\", \"town\", \"trump\", \"trump\", \"trump\", \"trump\", \"tune\", \"united\", \"us\", \"us\", \"us\", \"us\", \"us\", \"va\", \"veterans\", \"veterans\", \"video\", \"visit\", \"visit\", \"visit\", \"visit\", \"visiting\", \"vote\", \"voted\", \"w\", \"w\", \"watch\", \"watch\", \"watch\", \"wealthy\", \"week\", \"week\", \"week\", \"week\", \"wishing\", \"women\", \"women\", \"wonderful\", \"wonderful\", \"wonderful\", \"work\", \"work\", \"work\", \"work\", \"work\", \"worked\", \"working\", \"working\", \"working\", \"working\", \"working\", \"would\", \"would\", \"would\", \"would\", \"years\", \"years\", \"years\", \"years\", \"years\", \"york\", \"you\\u2019re\", \"\\u2026\", \"\\u2026\", \"\\u2026\", \"\\u2026\", \"\\u2026\"]}, \"R\": 30, \"lambda.step\": 0.01, \"plot.opts\": {\"xlab\": \"PC1\", \"ylab\": \"PC2\"}, \"topic.order\": [5, 3, 1, 2, 4]};\n",
       "\n",
       "function LDAvis_load_lib(url, callback){\n",
       "  var s = document.createElement('script');\n",
       "  s.src = url;\n",
       "  s.async = true;\n",
       "  s.onreadystatechange = s.onload = callback;\n",
       "  s.onerror = function(){console.warn(\"failed to load library \" + url);};\n",
       "  document.getElementsByTagName(\"head\")[0].appendChild(s);\n",
       "}\n",
       "\n",
       "if(typeof(LDAvis) !== \"undefined\"){\n",
       "   // already loaded: just create the visualization\n",
       "   !function(LDAvis){\n",
       "       new LDAvis(\"#\" + \"ldavis_el301364342950212808340122268\", ldavis_el301364342950212808340122268_data);\n",
       "   }(LDAvis);\n",
       "}else if(typeof define === \"function\" && define.amd){\n",
       "   // require.js is available: use it to load d3/LDAvis\n",
       "   require.config({paths: {d3: \"https://d3js.org/d3.v5\"}});\n",
       "   require([\"d3\"], function(d3){\n",
       "      window.d3 = d3;\n",
       "      LDAvis_load_lib(\"https://cdn.jsdelivr.net/gh/bmabey/pyLDAvis@3.4.0/pyLDAvis/js/ldavis.v3.0.0.js\", function(){\n",
       "        new LDAvis(\"#\" + \"ldavis_el301364342950212808340122268\", ldavis_el301364342950212808340122268_data);\n",
       "      });\n",
       "    });\n",
       "}else{\n",
       "    // require.js not available: dynamically load d3 & LDAvis\n",
       "    LDAvis_load_lib(\"https://d3js.org/d3.v5.js\", function(){\n",
       "         LDAvis_load_lib(\"https://cdn.jsdelivr.net/gh/bmabey/pyLDAvis@3.4.0/pyLDAvis/js/ldavis.v3.0.0.js\", function(){\n",
       "                 new LDAvis(\"#\" + \"ldavis_el301364342950212808340122268\", ldavis_el301364342950212808340122268_data);\n",
       "            })\n",
       "         });\n",
       "}\n",
       "</script>"
      ],
      "text/plain": [
       "PreparedData(topic_coordinates=              x         y  topics  cluster       Freq\n",
       "topic                                                \n",
       "4      0.010709  0.214302       1        1  24.286556\n",
       "2     -0.212851 -0.057103       2        1  22.124667\n",
       "0     -0.096432 -0.054952       3        1  19.175985\n",
       "1      0.166748 -0.179534       4        1  17.691628\n",
       "3      0.131827  0.077287       5        1  16.721165, topic_info=       Term        Freq        Total Category  logprob  loglift\n",
       "77      tax  737.000000   737.000000  Default  30.0000  30.0000\n",
       "211   house  779.000000   779.000000  Default  29.0000  29.0000\n",
       "100   great  961.000000   961.000000  Default  28.0000  28.0000\n",
       "0      bill  636.000000   636.000000  Default  27.0000  27.0000\n",
       "256   women  359.000000   359.000000  Default  26.0000  26.0000\n",
       "...     ...         ...          ...      ...      ...      ...\n",
       "184     get   88.537332   279.016294   Topic5  -5.9047   0.6406\n",
       "15    today  102.745243  1553.115650   Topic5  -5.7559  -0.9273\n",
       "1018    one   90.072933   426.086991   Topic5  -5.8875   0.2345\n",
       "100   great   94.015885   961.088547   Topic5  -5.8447  -0.5361\n",
       "0      bill   90.444799   636.775986   Topic5  -5.8834  -0.1632\n",
       "\n",
       "[330 rows x 6 columns], token_table=      Topic      Freq         Term\n",
       "term                              \n",
       "2519      3  0.983602  accountable\n",
       "384       3  0.183289       across\n",
       "384       4  0.814620       across\n",
       "547       1  0.809026          act\n",
       "547       5  0.190359          act\n",
       "...     ...       ...          ...\n",
       "773       1  0.239324            …\n",
       "773       2  0.359703            …\n",
       "773       3  0.124678            …\n",
       "773       4  0.124678            …\n",
       "773       5  0.151906            …\n",
       "\n",
       "[514 rows x 3 columns], R=30, lambda_step=0.01, plot_opts={'xlab': 'PC1', 'ylab': 'PC2'}, topic_order=[5, 3, 1, 2, 4])"
      ]
     },
     "execution_count": 10,
     "metadata": {},
     "output_type": "execute_result"
    }
   ],
   "source": [
    "# visualizing the topics\n",
    "def plot_lda_vis(lda_model, bow_corpus, dic):\n",
    "    pyLDAvis.enable_notebook()\n",
    "    vis = pyLDAvis.gensim.prepare(lda_model, bow_corpus, dic)\n",
    "    return vis\n",
    "\n",
    "\n",
    "plot_lda_vis(lda_model, corpus, dictionary)"
   ]
  },
  {
   "cell_type": "markdown",
   "metadata": {},
   "source": [
    "### Assign each tweet to a specific topic\n"
   ]
  },
  {
   "cell_type": "code",
   "execution_count": null,
   "metadata": {
    "execution": {
     "iopub.execute_input": "2024-10-31T04:52:45.062766Z",
     "iopub.status.busy": "2024-10-31T04:52:45.062416Z",
     "iopub.status.idle": "2024-10-31T04:52:50.404058Z",
     "shell.execute_reply": "2024-10-31T04:52:50.403003Z",
     "shell.execute_reply.started": "2024-10-31T04:52:45.062728Z"
    },
    "trusted": true
   },
   "outputs": [],
   "source": [
    "# Define the threshold\n",
    "threshold = 0.3\n",
    "\n",
    "\n",
    "# Function to assign topics based on threshold\n",
    "def assign_topic(lda_model, dictionary, tweet, threshold=0.3):\n",
    "    bow = dictionary.doc2bow(tweet)\n",
    "    topics = lda_model.get_document_topics(bow)\n",
    "    for topic_id, prob in topics:\n",
    "        if prob >= threshold:\n",
    "            return topic_id + 1  # Adding 1 for a 1-based index\n",
    "    return None  # No topic meets the threshold\n",
    "\n",
    "\n",
    "df_sampled[\"Assigned Topic\"] = [\n",
    "    assign_topic(lda_model, dictionary, tweet, threshold) for tweet in tokenized_tweets\n",
    "]"
   ]
  },
  {
   "cell_type": "code",
   "execution_count": 12,
   "metadata": {
    "execution": {
     "iopub.execute_input": "2024-10-31T04:52:50.408132Z",
     "iopub.status.busy": "2024-10-31T04:52:50.407831Z",
     "iopub.status.idle": "2024-10-31T04:52:50.424060Z",
     "shell.execute_reply": "2024-10-31T04:52:50.422911Z",
     "shell.execute_reply.started": "2024-10-31T04:52:50.408099Z"
    },
    "trusted": true
   },
   "outputs": [
    {
     "data": {
      "text/html": [
       "<div>\n",
       "<style scoped>\n",
       "    .dataframe tbody tr th:only-of-type {\n",
       "        vertical-align: middle;\n",
       "    }\n",
       "\n",
       "    .dataframe tbody tr th {\n",
       "        vertical-align: top;\n",
       "    }\n",
       "\n",
       "    .dataframe thead th {\n",
       "        text-align: right;\n",
       "    }\n",
       "</style>\n",
       "<table border=\"1\" class=\"dataframe\">\n",
       "  <thead>\n",
       "    <tr style=\"text-align: right;\">\n",
       "      <th></th>\n",
       "      <th>Party</th>\n",
       "      <th>Handle</th>\n",
       "      <th>Tweet</th>\n",
       "      <th>Processed Tweet</th>\n",
       "      <th>timestamp</th>\n",
       "      <th>Assigned Topic</th>\n",
       "    </tr>\n",
       "  </thead>\n",
       "  <tbody>\n",
       "    <tr>\n",
       "      <th>153</th>\n",
       "      <td>Democrat</td>\n",
       "      <td>janschakowsky</td>\n",
       "      <td>https://t.co/V5CiGJo49U</td>\n",
       "      <td></td>\n",
       "      <td>2015-01-11 09:42:22</td>\n",
       "      <td>NaN</td>\n",
       "    </tr>\n",
       "    <tr>\n",
       "      <th>184</th>\n",
       "      <td>Republican</td>\n",
       "      <td>WarrenDavidson</td>\n",
       "      <td>#DeedsNotWords #progress https://t.co/N5Y5qVFL96</td>\n",
       "      <td></td>\n",
       "      <td>2015-01-13 11:57:56</td>\n",
       "      <td>NaN</td>\n",
       "    </tr>\n",
       "    <tr>\n",
       "      <th>227</th>\n",
       "      <td>Democrat</td>\n",
       "      <td>RepValDemings</td>\n",
       "      <td>After serving on the Hostage Negotiations Team...</td>\n",
       "      <td>serving hostage negotiations team yrs orlando ...</td>\n",
       "      <td>2015-01-16 17:43:49</td>\n",
       "      <td>NaN</td>\n",
       "    </tr>\n",
       "    <tr>\n",
       "      <th>250</th>\n",
       "      <td>Republican</td>\n",
       "      <td>JudgeCarter</td>\n",
       "      <td>#GoArmy! https://t.co/m5Z0GysMex</td>\n",
       "      <td></td>\n",
       "      <td>2015-01-18 00:12:38</td>\n",
       "      <td>NaN</td>\n",
       "    </tr>\n",
       "    <tr>\n",
       "      <th>406</th>\n",
       "      <td>Republican</td>\n",
       "      <td>RepJoeWilson</td>\n",
       "      <td>.@JenMiller0412 #AskJoeWilson https://t.co/T7e...</td>\n",
       "      <td></td>\n",
       "      <td>2015-01-29 12:59:02</td>\n",
       "      <td>NaN</td>\n",
       "    </tr>\n",
       "    <tr>\n",
       "      <th>...</th>\n",
       "      <td>...</td>\n",
       "      <td>...</td>\n",
       "      <td>...</td>\n",
       "      <td>...</td>\n",
       "      <td>...</td>\n",
       "      <td>...</td>\n",
       "    </tr>\n",
       "    <tr>\n",
       "      <th>19880</th>\n",
       "      <td>Republican</td>\n",
       "      <td>RepMikeCoffman</td>\n",
       "      <td>https://t.co/9Ue6DozKej</td>\n",
       "      <td></td>\n",
       "      <td>2018-12-23 09:23:28</td>\n",
       "      <td>NaN</td>\n",
       "    </tr>\n",
       "    <tr>\n",
       "      <th>19902</th>\n",
       "      <td>Democrat</td>\n",
       "      <td>RepZoeLofgren</td>\n",
       "      <td>RT @JECDems: Rescinding #DACA would remove 30,...</td>\n",
       "      <td>rescinding would remove jobs month economy new...</td>\n",
       "      <td>2018-12-24 14:04:15</td>\n",
       "      <td>NaN</td>\n",
       "    </tr>\n",
       "    <tr>\n",
       "      <th>19917</th>\n",
       "      <td>Republican</td>\n",
       "      <td>RepDLamborn</td>\n",
       "      <td>Particularly excited to see Sam Brownback's co...</td>\n",
       "      <td>particularly excited see sam brownbacks confir...</td>\n",
       "      <td>2018-12-25 11:24:35</td>\n",
       "      <td>NaN</td>\n",
       "    </tr>\n",
       "    <tr>\n",
       "      <th>19931</th>\n",
       "      <td>Republican</td>\n",
       "      <td>RepBrianMast</td>\n",
       "      <td>I'm committed to getting the SB10 reservoir au...</td>\n",
       "      <td>im committed getting sb reservoir authorized c...</td>\n",
       "      <td>2018-12-26 15:52:28</td>\n",
       "      <td>NaN</td>\n",
       "    </tr>\n",
       "    <tr>\n",
       "      <th>19998</th>\n",
       "      <td>Democrat</td>\n",
       "      <td>chakafattah</td>\n",
       "      <td>@YahooNews https://t.co/tomyhshNMM</td>\n",
       "      <td></td>\n",
       "      <td>2018-12-31 21:20:31</td>\n",
       "      <td>NaN</td>\n",
       "    </tr>\n",
       "  </tbody>\n",
       "</table>\n",
       "<p>288 rows × 6 columns</p>\n",
       "</div>"
      ],
      "text/plain": [
       "            Party          Handle  \\\n",
       "153      Democrat   janschakowsky   \n",
       "184    Republican  WarrenDavidson   \n",
       "227      Democrat   RepValDemings   \n",
       "250    Republican     JudgeCarter   \n",
       "406    Republican    RepJoeWilson   \n",
       "...           ...             ...   \n",
       "19880  Republican  RepMikeCoffman   \n",
       "19902    Democrat   RepZoeLofgren   \n",
       "19917  Republican     RepDLamborn   \n",
       "19931  Republican    RepBrianMast   \n",
       "19998    Democrat     chakafattah   \n",
       "\n",
       "                                                   Tweet  \\\n",
       "153                              https://t.co/V5CiGJo49U   \n",
       "184     #DeedsNotWords #progress https://t.co/N5Y5qVFL96   \n",
       "227    After serving on the Hostage Negotiations Team...   \n",
       "250                     #GoArmy! https://t.co/m5Z0GysMex   \n",
       "406    .@JenMiller0412 #AskJoeWilson https://t.co/T7e...   \n",
       "...                                                  ...   \n",
       "19880                            https://t.co/9Ue6DozKej   \n",
       "19902  RT @JECDems: Rescinding #DACA would remove 30,...   \n",
       "19917  Particularly excited to see Sam Brownback's co...   \n",
       "19931  I'm committed to getting the SB10 reservoir au...   \n",
       "19998                 @YahooNews https://t.co/tomyhshNMM   \n",
       "\n",
       "                                         Processed Tweet           timestamp  \\\n",
       "153                                                      2015-01-11 09:42:22   \n",
       "184                                                      2015-01-13 11:57:56   \n",
       "227    serving hostage negotiations team yrs orlando ... 2015-01-16 17:43:49   \n",
       "250                                                      2015-01-18 00:12:38   \n",
       "406                                                      2015-01-29 12:59:02   \n",
       "...                                                  ...                 ...   \n",
       "19880                                                    2018-12-23 09:23:28   \n",
       "19902  rescinding would remove jobs month economy new... 2018-12-24 14:04:15   \n",
       "19917  particularly excited see sam brownbacks confir... 2018-12-25 11:24:35   \n",
       "19931  im committed getting sb reservoir authorized c... 2018-12-26 15:52:28   \n",
       "19998                                                    2018-12-31 21:20:31   \n",
       "\n",
       "       Assigned Topic  \n",
       "153               NaN  \n",
       "184               NaN  \n",
       "227               NaN  \n",
       "250               NaN  \n",
       "406               NaN  \n",
       "...               ...  \n",
       "19880             NaN  \n",
       "19902             NaN  \n",
       "19917             NaN  \n",
       "19931             NaN  \n",
       "19998             NaN  \n",
       "\n",
       "[288 rows x 6 columns]"
      ]
     },
     "execution_count": 12,
     "metadata": {},
     "output_type": "execute_result"
    }
   ],
   "source": [
    "df_sampled[df_sampled[\"Assigned Topic\"].isna()]"
   ]
  },
  {
   "cell_type": "markdown",
   "metadata": {},
   "source": [
    "## Sentiment Analysis\n",
    "\n",
    "- Used the sentiment analysis model to predict the sentiment of each tweet thus inturn predicting the sentiment of each topic\n"
   ]
  },
  {
   "cell_type": "code",
   "execution_count": null,
   "metadata": {
    "execution": {
     "iopub.execute_input": "2024-10-31T04:56:55.499423Z",
     "iopub.status.busy": "2024-10-31T04:56:55.498579Z",
     "iopub.status.idle": "2024-10-31T04:56:56.085293Z",
     "shell.execute_reply": "2024-10-31T04:56:56.084438Z",
     "shell.execute_reply.started": "2024-10-31T04:56:55.499384Z"
    },
    "trusted": true
   },
   "outputs": [
    {
     "name": "stderr",
     "output_type": "stream",
     "text": [
      "No model was supplied, defaulted to distilbert/distilbert-base-uncased-finetuned-sst-2-english and revision 714eb0f (https://huggingface.co/distilbert/distilbert-base-uncased-finetuned-sst-2-english).\n",
      "Using a pipeline without specifying a model name and revision in production is not recommended.\n"
     ]
    }
   ],
   "source": [
    "from transformers import pipeline\n",
    "\n",
    "sentiment_pipeline = pipeline(\"sentiment-analysis\", device=0)"
   ]
  },
  {
   "cell_type": "code",
   "execution_count": null,
   "metadata": {
    "execution": {
     "iopub.execute_input": "2024-10-31T04:57:00.436920Z",
     "iopub.status.busy": "2024-10-31T04:57:00.436544Z",
     "iopub.status.idle": "2024-10-31T04:59:22.247416Z",
     "shell.execute_reply": "2024-10-31T04:59:22.246197Z",
     "shell.execute_reply.started": "2024-10-31T04:57:00.436882Z"
    },
    "trusted": true
   },
   "outputs": [
    {
     "name": "stderr",
     "output_type": "stream",
     "text": [
      "You seem to be using the pipelines sequentially on GPU. In order to maximize efficiency please use a dataset\n"
     ]
    }
   ],
   "source": [
    "from tqdm.auto import tqdm\n",
    "\n",
    "tqdm.pandas()\n",
    "\n",
    "df_sampled[[\"Sentiment\"]] = df_sampled[\"Processed Tweet\"].apply(\n",
    "    lambda x: pd.Series(\n",
    "        {\n",
    "            \"Sentiment\": sentiment_pipeline(x)[0][\"label\"],\n",
    "        }\n",
    "    )\n",
    ")"
   ]
  },
  {
   "cell_type": "code",
   "execution_count": 25,
   "metadata": {
    "execution": {
     "iopub.execute_input": "2024-10-31T05:01:36.118101Z",
     "iopub.status.busy": "2024-10-31T05:01:36.117062Z",
     "iopub.status.idle": "2024-10-31T05:01:36.424876Z",
     "shell.execute_reply": "2024-10-31T05:01:36.423709Z",
     "shell.execute_reply.started": "2024-10-31T05:01:36.118053Z"
    },
    "trusted": true
   },
   "outputs": [
    {
     "data": {
      "text/plain": [
       "<Axes: xlabel='Party,Sentiment'>"
      ]
     },
     "execution_count": 25,
     "metadata": {},
     "output_type": "execute_result"
    },
    {
     "data": {
      "image/png": "[encoded data removed]",
      "text/plain": [
       "<Figure size 640x480 with 1 Axes>"
      ]
     },
     "metadata": {},
     "output_type": "display_data"
    }
   ],
   "source": [
    "df_sampled.groupby(\"Party\")[\"Sentiment\"].value_counts().plot(kind=\"bar\")"
   ]
  },
  {
   "cell_type": "code",
   "execution_count": 22,
   "metadata": {
    "execution": {
     "iopub.execute_input": "2024-10-31T05:00:35.049318Z",
     "iopub.status.busy": "2024-10-31T05:00:35.048575Z",
     "iopub.status.idle": "2024-10-31T05:00:35.065997Z",
     "shell.execute_reply": "2024-10-31T05:00:35.064996Z",
     "shell.execute_reply.started": "2024-10-31T05:00:35.049278Z"
    },
    "trusted": true
   },
   "outputs": [
    {
     "data": {
      "text/html": [
       "<div>\n",
       "<style scoped>\n",
       "    .dataframe tbody tr th:only-of-type {\n",
       "        vertical-align: middle;\n",
       "    }\n",
       "\n",
       "    .dataframe tbody tr th {\n",
       "        vertical-align: top;\n",
       "    }\n",
       "\n",
       "    .dataframe thead th {\n",
       "        text-align: right;\n",
       "    }\n",
       "</style>\n",
       "<table border=\"1\" class=\"dataframe\">\n",
       "  <thead>\n",
       "    <tr style=\"text-align: right;\">\n",
       "      <th></th>\n",
       "      <th>Party</th>\n",
       "      <th>Handle</th>\n",
       "      <th>Tweet</th>\n",
       "      <th>Processed Tweet</th>\n",
       "      <th>timestamp</th>\n",
       "      <th>Assigned Topic</th>\n",
       "      <th>Sentiment</th>\n",
       "    </tr>\n",
       "  </thead>\n",
       "  <tbody>\n",
       "    <tr>\n",
       "      <th>0</th>\n",
       "      <td>Democrat</td>\n",
       "      <td>repsandylevin</td>\n",
       "      <td>The notion that this bill for the middle class...</td>\n",
       "      <td>notion bill middle class untrue fib</td>\n",
       "      <td>2015-01-01 00:10:09</td>\n",
       "      <td>4.0</td>\n",
       "      <td>NEGATIVE</td>\n",
       "    </tr>\n",
       "    <tr>\n",
       "      <th>1</th>\n",
       "      <td>Republican</td>\n",
       "      <td>RepJoeWilson</td>\n",
       "      <td>At the @HASCRepublicans hearing today, I quest...</td>\n",
       "      <td>hearing today questioned expewitnesses army se...</td>\n",
       "      <td>2015-01-01 01:05:22</td>\n",
       "      <td>3.0</td>\n",
       "      <td>NEGATIVE</td>\n",
       "    </tr>\n",
       "    <tr>\n",
       "      <th>2</th>\n",
       "      <td>Democrat</td>\n",
       "      <td>LloydDoggettTX</td>\n",
       "      <td>RT @texasdemocrats: Two years ago, marriage eq...</td>\n",
       "      <td>two years ago marriage equality became law lan...</td>\n",
       "      <td>2015-01-01 01:59:39</td>\n",
       "      <td>4.0</td>\n",
       "      <td>NEGATIVE</td>\n",
       "    </tr>\n",
       "    <tr>\n",
       "      <th>3</th>\n",
       "      <td>Democrat</td>\n",
       "      <td>NancyPelosi</td>\n",
       "      <td>With at least seven independent federal invest...</td>\n",
       "      <td>least seven independent federal investigations...</td>\n",
       "      <td>2015-01-01 03:07:45</td>\n",
       "      <td>4.0</td>\n",
       "      <td>NEGATIVE</td>\n",
       "    </tr>\n",
       "    <tr>\n",
       "      <th>4</th>\n",
       "      <td>Democrat</td>\n",
       "      <td>jahimes</td>\n",
       "      <td>RT @FairfieldCares: National Prescription Drug...</td>\n",
       "      <td>national prescription drug takeback day saturd...</td>\n",
       "      <td>2015-01-01 06:42:27</td>\n",
       "      <td>3.0</td>\n",
       "      <td>NEGATIVE</td>\n",
       "    </tr>\n",
       "    <tr>\n",
       "      <th>...</th>\n",
       "      <td>...</td>\n",
       "      <td>...</td>\n",
       "      <td>...</td>\n",
       "      <td>...</td>\n",
       "      <td>...</td>\n",
       "      <td>...</td>\n",
       "      <td>...</td>\n",
       "    </tr>\n",
       "    <tr>\n",
       "      <th>19995</th>\n",
       "      <td>Democrat</td>\n",
       "      <td>RepBarragan</td>\n",
       "      <td>The #IRS is extending the tax-filing deadline ...</td>\n",
       "      <td>extending taxfiling deadline extra day due com...</td>\n",
       "      <td>2018-12-31 14:42:31</td>\n",
       "      <td>2.0</td>\n",
       "      <td>NEGATIVE</td>\n",
       "    </tr>\n",
       "    <tr>\n",
       "      <th>19996</th>\n",
       "      <td>Republican</td>\n",
       "      <td>CongCulberson</td>\n",
       "      <td>RT @RepKevinBrady: Next #TaxDay you will see l...</td>\n",
       "      <td>next see lower rates tax code that’s great</td>\n",
       "      <td>2018-12-31 16:58:20</td>\n",
       "      <td>4.0</td>\n",
       "      <td>POSITIVE</td>\n",
       "    </tr>\n",
       "    <tr>\n",
       "      <th>19997</th>\n",
       "      <td>Republican</td>\n",
       "      <td>RepKevinBrady</td>\n",
       "      <td>TRUTH CHECK: @AP ignores the over 30 MILLION h...</td>\n",
       "      <td>truth check ignores million hardworking americ...</td>\n",
       "      <td>2018-12-31 21:05:12</td>\n",
       "      <td>2.0</td>\n",
       "      <td>NEGATIVE</td>\n",
       "    </tr>\n",
       "    <tr>\n",
       "      <th>19998</th>\n",
       "      <td>Democrat</td>\n",
       "      <td>chakafattah</td>\n",
       "      <td>@YahooNews https://t.co/tomyhshNMM</td>\n",
       "      <td></td>\n",
       "      <td>2018-12-31 21:20:31</td>\n",
       "      <td>NaN</td>\n",
       "      <td>POSITIVE</td>\n",
       "    </tr>\n",
       "    <tr>\n",
       "      <th>19999</th>\n",
       "      <td>Republican</td>\n",
       "      <td>rep_stevewomack</td>\n",
       "      <td>Great visit to 5 West Crisis Stabilization Uni...</td>\n",
       "      <td>great visit west crisis stabilization unit sta...</td>\n",
       "      <td>2018-12-31 22:28:42</td>\n",
       "      <td>4.0</td>\n",
       "      <td>POSITIVE</td>\n",
       "    </tr>\n",
       "  </tbody>\n",
       "</table>\n",
       "<p>20000 rows × 7 columns</p>\n",
       "</div>"
      ],
      "text/plain": [
       "            Party           Handle  \\\n",
       "0        Democrat    repsandylevin   \n",
       "1      Republican     RepJoeWilson   \n",
       "2        Democrat   LloydDoggettTX   \n",
       "3        Democrat      NancyPelosi   \n",
       "4        Democrat          jahimes   \n",
       "...           ...              ...   \n",
       "19995    Democrat      RepBarragan   \n",
       "19996  Republican    CongCulberson   \n",
       "19997  Republican    RepKevinBrady   \n",
       "19998    Democrat      chakafattah   \n",
       "19999  Republican  rep_stevewomack   \n",
       "\n",
       "                                                   Tweet  \\\n",
       "0      The notion that this bill for the middle class...   \n",
       "1      At the @HASCRepublicans hearing today, I quest...   \n",
       "2      RT @texasdemocrats: Two years ago, marriage eq...   \n",
       "3      With at least seven independent federal invest...   \n",
       "4      RT @FairfieldCares: National Prescription Drug...   \n",
       "...                                                  ...   \n",
       "19995  The #IRS is extending the tax-filing deadline ...   \n",
       "19996  RT @RepKevinBrady: Next #TaxDay you will see l...   \n",
       "19997  TRUTH CHECK: @AP ignores the over 30 MILLION h...   \n",
       "19998                 @YahooNews https://t.co/tomyhshNMM   \n",
       "19999  Great visit to 5 West Crisis Stabilization Uni...   \n",
       "\n",
       "                                         Processed Tweet           timestamp  \\\n",
       "0                    notion bill middle class untrue fib 2015-01-01 00:10:09   \n",
       "1      hearing today questioned expewitnesses army se... 2015-01-01 01:05:22   \n",
       "2      two years ago marriage equality became law lan... 2015-01-01 01:59:39   \n",
       "3      least seven independent federal investigations... 2015-01-01 03:07:45   \n",
       "4      national prescription drug takeback day saturd... 2015-01-01 06:42:27   \n",
       "...                                                  ...                 ...   \n",
       "19995  extending taxfiling deadline extra day due com... 2018-12-31 14:42:31   \n",
       "19996         next see lower rates tax code that’s great 2018-12-31 16:58:20   \n",
       "19997  truth check ignores million hardworking americ... 2018-12-31 21:05:12   \n",
       "19998                                                    2018-12-31 21:20:31   \n",
       "19999  great visit west crisis stabilization unit sta... 2018-12-31 22:28:42   \n",
       "\n",
       "       Assigned Topic Sentiment  \n",
       "0                 4.0  NEGATIVE  \n",
       "1                 3.0  NEGATIVE  \n",
       "2                 4.0  NEGATIVE  \n",
       "3                 4.0  NEGATIVE  \n",
       "4                 3.0  NEGATIVE  \n",
       "...               ...       ...  \n",
       "19995             2.0  NEGATIVE  \n",
       "19996             4.0  POSITIVE  \n",
       "19997             2.0  NEGATIVE  \n",
       "19998             NaN  POSITIVE  \n",
       "19999             4.0  POSITIVE  \n",
       "\n",
       "[20000 rows x 7 columns]"
      ]
     },
     "execution_count": 22,
     "metadata": {},
     "output_type": "execute_result"
    }
   ],
   "source": [
    "df_sampled"
   ]
  },
  {
   "cell_type": "markdown",
   "metadata": {},
   "source": [
    "## Save the outputs\n",
    "\n",
    "- Processed csv file\n",
    "- LDA Model\n"
   ]
  },
  {
   "cell_type": "code",
   "execution_count": null,
   "metadata": {},
   "outputs": [],
   "source": [
    "df_sampled.to_csv(\"final.csv\")"
   ]
  },
  {
   "cell_type": "code",
   "execution_count": 26,
   "metadata": {
    "execution": {
     "iopub.execute_input": "2024-10-31T05:01:44.045624Z",
     "iopub.status.busy": "2024-10-31T05:01:44.044874Z",
     "iopub.status.idle": "2024-10-31T05:01:44.053032Z",
     "shell.execute_reply": "2024-10-31T05:01:44.052122Z",
     "shell.execute_reply.started": "2024-10-31T05:01:44.045582Z"
    },
    "trusted": true
   },
   "outputs": [
    {
     "data": {
      "text/plain": [
       "<gensim.models.ldamodel.LdaModel at 0x7c161ca92f20>"
      ]
     },
     "execution_count": 26,
     "metadata": {},
     "output_type": "execute_result"
    }
   ],
   "source": [
    "lda_model"
   ]
  },
  {
   "cell_type": "code",
   "execution_count": 27,
   "metadata": {
    "execution": {
     "iopub.execute_input": "2024-10-31T05:02:30.914346Z",
     "iopub.status.busy": "2024-10-31T05:02:30.913944Z",
     "iopub.status.idle": "2024-10-31T05:02:30.937041Z",
     "shell.execute_reply": "2024-10-31T05:02:30.936123Z",
     "shell.execute_reply.started": "2024-10-31T05:02:30.914309Z"
    },
    "trusted": true
   },
   "outputs": [],
   "source": [
    "lda_model.save(\"lda_model.gensim\")"
   ]
  }
 ],
 "metadata": {
  "kaggle": {
   "accelerator": "nvidiaTeslaT4",
   "dataSources": [
    {
     "datasetId": 26920,
     "sourceId": 36624,
     "sourceType": "datasetVersion"
    }
   ],
   "dockerImageVersionId": 30787,
   "isGpuEnabled": true,
   "isInternetEnabled": true,
   "language": "python",
   "sourceType": "notebook"
  },
  "kernelspec": {
   "display_name": ".venv",
   "language": "python",
   "name": "python3"
  },
  "language_info": {
   "codemirror_mode": {
    "name": "ipython",
    "version": 3
   },
   "file_extension": ".py",
   "mimetype": "text/x-python",
   "name": "python",
   "nbconvert_exporter": "python",
   "pygments_lexer": "ipython3",
   "version": "3.12.5"
  }
 },
 "nbformat": 4,
 "nbformat_minor": 4
}
